{
 "cells": [
  {
   "cell_type": "code",
   "execution_count": 1,
   "metadata": {},
   "outputs": [],
   "source": [
    "import pandas as pd\n",
    "import json\n",
    "import numpy as np\n",
    "from tqdm import tqdm\n",
    "\n",
    "import string\n",
    "from nltk.tokenize import regexp_tokenize\n",
    "from nltk.corpus import stopwords\n",
    "from nltk.stem import WordNetLemmatizer\n",
    "\n",
    "from gensim.models import KeyedVectors"
   ]
  },
  {
   "cell_type": "code",
   "execution_count": 2,
   "metadata": {},
   "outputs": [
    {
     "data": {
      "text/html": [
       "<div>\n",
       "<style scoped>\n",
       "    .dataframe tbody tr th:only-of-type {\n",
       "        vertical-align: middle;\n",
       "    }\n",
       "\n",
       "    .dataframe tbody tr th {\n",
       "        vertical-align: top;\n",
       "    }\n",
       "\n",
       "    .dataframe thead th {\n",
       "        text-align: right;\n",
       "    }\n",
       "</style>\n",
       "<table border=\"1\" class=\"dataframe\">\n",
       "  <thead>\n",
       "    <tr style=\"text-align: right;\">\n",
       "      <th></th>\n",
       "      <th>url</th>\n",
       "      <th>headline</th>\n",
       "      <th>summary</th>\n",
       "    </tr>\n",
       "  </thead>\n",
       "  <tbody>\n",
       "    <tr>\n",
       "      <th>0</th>\n",
       "      <td>https://www.independent.co.uk/news/world/europ...</td>\n",
       "      <td>Non-stunned halal and kosher meat not saleable...</td>\n",
       "      <td>Animals must be stunned prior to being killed ...</td>\n",
       "    </tr>\n",
       "    <tr>\n",
       "      <th>1</th>\n",
       "      <td>https://techxplore.com/news/2018-07-bacteria-p...</td>\n",
       "      <td>Solar cells powered by hybrid E. coli convert ...</td>\n",
       "      <td>Researchers in Canada have developed an innova...</td>\n",
       "    </tr>\n",
       "    <tr>\n",
       "      <th>2</th>\n",
       "      <td>http://www.themalaymailonline.com/malaysia/art...</td>\n",
       "      <td>Southeast Asia unprepared for ISIS attacks say...</td>\n",
       "      <td>Southeast Asia is unprepared for the rapidly-r...</td>\n",
       "    </tr>\n",
       "    <tr>\n",
       "      <th>3</th>\n",
       "      <td>http://www.scotsman.com/business/companies/ret...</td>\n",
       "      <td>Speedy Hire rejects calls for merger with HSS</td>\n",
       "      <td>In addition to calls from Toscafund to oust it...</td>\n",
       "    </tr>\n",
       "    <tr>\n",
       "      <th>4</th>\n",
       "      <td>http://www.wsj.com/articles/transferwise-plans...</td>\n",
       "      <td>TransferWise to launch China services\\n</td>\n",
       "      <td>TransferWise has announced plans to launch a c...</td>\n",
       "    </tr>\n",
       "  </tbody>\n",
       "</table>\n",
       "</div>"
      ],
      "text/plain": [
       "                                                 url  \\\n",
       "0  https://www.independent.co.uk/news/world/europ...   \n",
       "1  https://techxplore.com/news/2018-07-bacteria-p...   \n",
       "2  http://www.themalaymailonline.com/malaysia/art...   \n",
       "3  http://www.scotsman.com/business/companies/ret...   \n",
       "4  http://www.wsj.com/articles/transferwise-plans...   \n",
       "\n",
       "                                            headline  \\\n",
       "0  Non-stunned halal and kosher meat not saleable...   \n",
       "1  Solar cells powered by hybrid E. coli convert ...   \n",
       "2  Southeast Asia unprepared for ISIS attacks say...   \n",
       "3      Speedy Hire rejects calls for merger with HSS   \n",
       "4            TransferWise to launch China services\\n   \n",
       "\n",
       "                                             summary  \n",
       "0  Animals must be stunned prior to being killed ...  \n",
       "1  Researchers in Canada have developed an innova...  \n",
       "2  Southeast Asia is unprepared for the rapidly-r...  \n",
       "3  In addition to calls from Toscafund to oust it...  \n",
       "4  TransferWise has announced plans to launch a c...  "
      ]
     },
     "execution_count": 2,
     "metadata": {},
     "output_type": "execute_result"
    }
   ],
   "source": [
    "data = pd.read_csv('data/data.csv')\n",
    "stopwords_eng = stopwords.words('english')\n",
    "lemmatizer = WordNetLemmatizer()\n",
    "data.head()"
   ]
  },
  {
   "cell_type": "code",
   "execution_count": 3,
   "metadata": {},
   "outputs": [
    {
     "data": {
      "text/plain": [
       "40000"
      ]
     },
     "execution_count": 3,
     "metadata": {},
     "output_type": "execute_result"
    }
   ],
   "source": [
    "data.shape[0]"
   ]
  },
  {
   "cell_type": "code",
   "execution_count": 4,
   "metadata": {
    "scrolled": true
   },
   "outputs": [],
   "source": [
    "data = data.head(1000)"
   ]
  },
  {
   "cell_type": "code",
   "execution_count": 5,
   "metadata": {},
   "outputs": [
    {
     "data": {
      "text/plain": [
       "(1000, 3)"
      ]
     },
     "execution_count": 5,
     "metadata": {},
     "output_type": "execute_result"
    }
   ],
   "source": [
    "data.shape"
   ]
  },
  {
   "cell_type": "code",
   "execution_count": 6,
   "metadata": {},
   "outputs": [],
   "source": [
    "def process_text(text):\n",
    "    text = text.replace(\"\\n\",\" \").replace(\"\\r\",\" \")\n",
    "    text = text.replace(\"\\xa0\",\" \")\n",
    "\n",
    "    punc_list = '!\"#$%()*+,-./:;<=>?@^_{|}~'\n",
    "    t = str.maketrans(dict.fromkeys(punc_list,\" \"))\n",
    "    text = text.translate(t)\n",
    "\n",
    "    t = str.maketrans(dict.fromkeys(\"'`\",\"\"))\n",
    "    text = text.translate(t)\n",
    "\n",
    "    tokens = regexp_tokenize(text,pattern='\\s+',gaps=True)\n",
    "    cleaned_tokens = []\n",
    "\n",
    "    for t in tokens:\n",
    "        if t not in stopwords_eng:\n",
    "            l = lemmatizer.lemmatize(t)\n",
    "            cleaned_tokens.append(l)\n",
    "\n",
    "    return cleaned_tokens\n",
    "\n",
    "def get_vec(word):\n",
    "    try:\n",
    "        return model[word]\n",
    "    except:\n",
    "        return np.zeros(300)"
   ]
  },
  {
   "cell_type": "code",
   "execution_count": 7,
   "metadata": {},
   "outputs": [],
   "source": [
    "model = KeyedVectors.load_word2vec_format('./GoogleNews-vectors-negative300.bin',binary=True,limit=10**5)"
   ]
  },
  {
   "cell_type": "code",
   "execution_count": 8,
   "metadata": {},
   "outputs": [
    {
     "data": {
      "text/plain": [
       "url         0\n",
       "headline    1\n",
       "summary     2\n",
       "dtype: int64"
      ]
     },
     "execution_count": 8,
     "metadata": {},
     "output_type": "execute_result"
    }
   ],
   "source": [
    "data.isna().sum()"
   ]
  },
  {
   "cell_type": "code",
   "execution_count": 9,
   "metadata": {
    "scrolled": true
   },
   "outputs": [],
   "source": [
    "data = data.dropna()"
   ]
  },
  {
   "cell_type": "code",
   "execution_count": 10,
   "metadata": {},
   "outputs": [
    {
     "data": {
      "text/html": [
       "<div>\n",
       "<style scoped>\n",
       "    .dataframe tbody tr th:only-of-type {\n",
       "        vertical-align: middle;\n",
       "    }\n",
       "\n",
       "    .dataframe tbody tr th {\n",
       "        vertical-align: top;\n",
       "    }\n",
       "\n",
       "    .dataframe thead th {\n",
       "        text-align: right;\n",
       "    }\n",
       "</style>\n",
       "<table border=\"1\" class=\"dataframe\">\n",
       "  <thead>\n",
       "    <tr style=\"text-align: right;\">\n",
       "      <th></th>\n",
       "      <th>url</th>\n",
       "      <th>headline</th>\n",
       "      <th>summary</th>\n",
       "    </tr>\n",
       "  </thead>\n",
       "  <tbody>\n",
       "    <tr>\n",
       "      <th>0</th>\n",
       "      <td>https://www.independent.co.uk/news/world/europ...</td>\n",
       "      <td>Non-stunned halal and kosher meat not saleable...</td>\n",
       "      <td>Animals must be stunned prior to being killed ...</td>\n",
       "    </tr>\n",
       "    <tr>\n",
       "      <th>1</th>\n",
       "      <td>https://techxplore.com/news/2018-07-bacteria-p...</td>\n",
       "      <td>Solar cells powered by hybrid E. coli convert ...</td>\n",
       "      <td>Researchers in Canada have developed an innova...</td>\n",
       "    </tr>\n",
       "    <tr>\n",
       "      <th>2</th>\n",
       "      <td>http://www.themalaymailonline.com/malaysia/art...</td>\n",
       "      <td>Southeast Asia unprepared for ISIS attacks say...</td>\n",
       "      <td>Southeast Asia is unprepared for the rapidly-r...</td>\n",
       "    </tr>\n",
       "    <tr>\n",
       "      <th>3</th>\n",
       "      <td>http://www.scotsman.com/business/companies/ret...</td>\n",
       "      <td>Speedy Hire rejects calls for merger with HSS</td>\n",
       "      <td>In addition to calls from Toscafund to oust it...</td>\n",
       "    </tr>\n",
       "    <tr>\n",
       "      <th>4</th>\n",
       "      <td>http://www.wsj.com/articles/transferwise-plans...</td>\n",
       "      <td>TransferWise to launch China services\\n</td>\n",
       "      <td>TransferWise has announced plans to launch a c...</td>\n",
       "    </tr>\n",
       "  </tbody>\n",
       "</table>\n",
       "</div>"
      ],
      "text/plain": [
       "                                                 url  \\\n",
       "0  https://www.independent.co.uk/news/world/europ...   \n",
       "1  https://techxplore.com/news/2018-07-bacteria-p...   \n",
       "2  http://www.themalaymailonline.com/malaysia/art...   \n",
       "3  http://www.scotsman.com/business/companies/ret...   \n",
       "4  http://www.wsj.com/articles/transferwise-plans...   \n",
       "\n",
       "                                            headline  \\\n",
       "0  Non-stunned halal and kosher meat not saleable...   \n",
       "1  Solar cells powered by hybrid E. coli convert ...   \n",
       "2  Southeast Asia unprepared for ISIS attacks say...   \n",
       "3      Speedy Hire rejects calls for merger with HSS   \n",
       "4            TransferWise to launch China services\\n   \n",
       "\n",
       "                                             summary  \n",
       "0  Animals must be stunned prior to being killed ...  \n",
       "1  Researchers in Canada have developed an innova...  \n",
       "2  Southeast Asia is unprepared for the rapidly-r...  \n",
       "3  In addition to calls from Toscafund to oust it...  \n",
       "4  TransferWise has announced plans to launch a c...  "
      ]
     },
     "execution_count": 10,
     "metadata": {},
     "output_type": "execute_result"
    }
   ],
   "source": [
    "data.head(5)"
   ]
  },
  {
   "cell_type": "code",
   "execution_count": 11,
   "metadata": {},
   "outputs": [
    {
     "data": {
      "text/plain": [
       "'https://www.independent.co.uk/news/world/europe/halal-kosher-meat-organic-stunning-eu-court-ruling-a8797761.html'"
      ]
     },
     "execution_count": 11,
     "metadata": {},
     "output_type": "execute_result"
    }
   ],
   "source": [
    "data.iloc[0]['url']"
   ]
  },
  {
   "cell_type": "code",
   "execution_count": 12,
   "metadata": {
    "scrolled": true
   },
   "outputs": [
    {
     "name": "stderr",
     "output_type": "stream",
     "text": [
      "100%|██████████| 997/997 [00:03<00:00, 286.71it/s]\n"
     ]
    }
   ],
   "source": [
    "data_dict = []\n",
    "for i in tqdm(range(data.shape[0])):\n",
    "    data_dict.append({\n",
    "        'url':data.iloc[i]['url'],\n",
    "        'headline':data.iloc[i]['headline'],\n",
    "        'tokens':process_text(data.iloc[i]['headline']),\n",
    "        'sentence_vector':sum([get_vec(t) for t in process_text(data.iloc[i]['headline'])]).tolist()\n",
    "    })"
   ]
  },
  {
   "cell_type": "code",
   "execution_count": 13,
   "metadata": {},
   "outputs": [],
   "source": [
    "df = pd.DataFrame(data_dict)"
   ]
  },
  {
   "cell_type": "code",
   "execution_count": 14,
   "metadata": {
    "scrolled": true
   },
   "outputs": [
    {
     "name": "stderr",
     "output_type": "stream",
     "text": [
      "100%|██████████| 997/997 [00:00<00:00, 3938.91it/s]"
     ]
    },
    {
     "name": "stdout",
     "output_type": "stream",
     "text": [
      "single positional indexer is out-of-bounds\n"
     ]
    },
    {
     "name": "stderr",
     "output_type": "stream",
     "text": [
      "\n"
     ]
    }
   ],
   "source": [
    "for i in tqdm(range(df.shape[0])):\n",
    "    try:\n",
    "        if (df.iloc[i]['sentence_vector'] == np.zeros(300)).all():\n",
    "            df = df.drop([i],axis=0)\n",
    "    except Exception as e:\n",
    "        print(e)"
   ]
  },
  {
   "cell_type": "code",
   "execution_count": 15,
   "metadata": {
    "scrolled": true
   },
   "outputs": [
    {
     "data": {
      "text/plain": [
       "headline           WeWork veterans open wellness-minded co-workin...\n",
       "sentence_vector    [-0.299072265625, 0.4761962890625, 0.149353027...\n",
       "tokens             [WeWork, veteran, open, wellness, minded, co, ...\n",
       "url                http://www.harpersbazaar.com/beauty/health/a16...\n",
       "Name: 253, dtype: object"
      ]
     },
     "execution_count": 15,
     "metadata": {},
     "output_type": "execute_result"
    }
   ],
   "source": [
    "df.iloc[252]"
   ]
  },
  {
   "cell_type": "code",
   "execution_count": 16,
   "metadata": {},
   "outputs": [
    {
     "data": {
      "text/html": [
       "<div>\n",
       "<style scoped>\n",
       "    .dataframe tbody tr th:only-of-type {\n",
       "        vertical-align: middle;\n",
       "    }\n",
       "\n",
       "    .dataframe tbody tr th {\n",
       "        vertical-align: top;\n",
       "    }\n",
       "\n",
       "    .dataframe thead th {\n",
       "        text-align: right;\n",
       "    }\n",
       "</style>\n",
       "<table border=\"1\" class=\"dataframe\">\n",
       "  <thead>\n",
       "    <tr style=\"text-align: right;\">\n",
       "      <th></th>\n",
       "      <th>headline</th>\n",
       "      <th>sentence_vector</th>\n",
       "      <th>tokens</th>\n",
       "      <th>url</th>\n",
       "    </tr>\n",
       "  </thead>\n",
       "  <tbody>\n",
       "    <tr>\n",
       "      <th>0</th>\n",
       "      <td>Non-stunned halal and kosher meat not saleable...</td>\n",
       "      <td>[-0.8790283203125, -0.692626953125, 1.00634765...</td>\n",
       "      <td>[Non, stunned, halal, kosher, meat, saleable, ...</td>\n",
       "      <td>https://www.independent.co.uk/news/world/europ...</td>\n",
       "    </tr>\n",
       "    <tr>\n",
       "      <th>1</th>\n",
       "      <td>Solar cells powered by hybrid E. coli convert ...</td>\n",
       "      <td>[-0.28662109375, 0.886474609375, 0.73211669921...</td>\n",
       "      <td>[Solar, cell, powered, hybrid, E, coli, conver...</td>\n",
       "      <td>https://techxplore.com/news/2018-07-bacteria-p...</td>\n",
       "    </tr>\n",
       "    <tr>\n",
       "      <th>2</th>\n",
       "      <td>Southeast Asia unprepared for ISIS attacks say...</td>\n",
       "      <td>[0.013671875, 0.665771484375, 0.24090576171875...</td>\n",
       "      <td>[Southeast, Asia, unprepared, ISIS, attack, sa...</td>\n",
       "      <td>http://www.themalaymailonline.com/malaysia/art...</td>\n",
       "    </tr>\n",
       "    <tr>\n",
       "      <th>3</th>\n",
       "      <td>Speedy Hire rejects calls for merger with HSS</td>\n",
       "      <td>[-0.567596435546875, 0.98150634765625, -0.0351...</td>\n",
       "      <td>[Speedy, Hire, reject, call, merger, HSS]</td>\n",
       "      <td>http://www.scotsman.com/business/companies/ret...</td>\n",
       "    </tr>\n",
       "    <tr>\n",
       "      <th>4</th>\n",
       "      <td>TransferWise to launch China services\\n</td>\n",
       "      <td>[-0.07177734375, 0.197509765625, -0.044921875,...</td>\n",
       "      <td>[TransferWise, launch, China, service]</td>\n",
       "      <td>http://www.wsj.com/articles/transferwise-plans...</td>\n",
       "    </tr>\n",
       "  </tbody>\n",
       "</table>\n",
       "</div>"
      ],
      "text/plain": [
       "                                            headline  \\\n",
       "0  Non-stunned halal and kosher meat not saleable...   \n",
       "1  Solar cells powered by hybrid E. coli convert ...   \n",
       "2  Southeast Asia unprepared for ISIS attacks say...   \n",
       "3      Speedy Hire rejects calls for merger with HSS   \n",
       "4            TransferWise to launch China services\\n   \n",
       "\n",
       "                                     sentence_vector  \\\n",
       "0  [-0.8790283203125, -0.692626953125, 1.00634765...   \n",
       "1  [-0.28662109375, 0.886474609375, 0.73211669921...   \n",
       "2  [0.013671875, 0.665771484375, 0.24090576171875...   \n",
       "3  [-0.567596435546875, 0.98150634765625, -0.0351...   \n",
       "4  [-0.07177734375, 0.197509765625, -0.044921875,...   \n",
       "\n",
       "                                              tokens  \\\n",
       "0  [Non, stunned, halal, kosher, meat, saleable, ...   \n",
       "1  [Solar, cell, powered, hybrid, E, coli, conver...   \n",
       "2  [Southeast, Asia, unprepared, ISIS, attack, sa...   \n",
       "3          [Speedy, Hire, reject, call, merger, HSS]   \n",
       "4             [TransferWise, launch, China, service]   \n",
       "\n",
       "                                                 url  \n",
       "0  https://www.independent.co.uk/news/world/europ...  \n",
       "1  https://techxplore.com/news/2018-07-bacteria-p...  \n",
       "2  http://www.themalaymailonline.com/malaysia/art...  \n",
       "3  http://www.scotsman.com/business/companies/ret...  \n",
       "4  http://www.wsj.com/articles/transferwise-plans...  "
      ]
     },
     "execution_count": 16,
     "metadata": {},
     "output_type": "execute_result"
    }
   ],
   "source": [
    "pd.DataFrame(data_dict).head(5)"
   ]
  },
  {
   "cell_type": "code",
   "execution_count": null,
   "metadata": {},
   "outputs": [],
   "source": []
  }
 ],
 "metadata": {
  "kernelspec": {
   "display_name": "Python 3.7.2 64-bit",
   "language": "python",
   "name": "python37264bitf057b37a75a34fd4ab2d6f607a314ee3"
  },
  "language_info": {
   "codemirror_mode": {
    "name": "ipython",
    "version": 3
   },
   "file_extension": ".py",
   "mimetype": "text/x-python",
   "name": "python",
   "nbconvert_exporter": "python",
   "pygments_lexer": "ipython3",
   "version": "3.7.2"
  }
 },
 "nbformat": 4,
 "nbformat_minor": 2
}
