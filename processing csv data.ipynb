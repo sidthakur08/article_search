{
 "cells": [
  {
   "cell_type": "code",
   "execution_count": 1,
   "metadata": {},
   "outputs": [],
   "source": [
    "import pandas as pd\n",
    "import json\n",
    "import numpy as np\n",
    "from tqdm import tqdm\n",
    "\n",
    "import string\n",
    "from nltk.tokenize import regexp_tokenize\n",
    "from nltk.corpus import stopwords\n",
    "from nltk.stem import WordNetLemmatizer\n",
    "\n",
    "from gensim.models import KeyedVectors"
   ]
  },
  {
   "cell_type": "code",
   "execution_count": 2,
   "metadata": {},
   "outputs": [
    {
     "data": {
      "text/html": [
       "<div>\n",
       "<style scoped>\n",
       "    .dataframe tbody tr th:only-of-type {\n",
       "        vertical-align: middle;\n",
       "    }\n",
       "\n",
       "    .dataframe tbody tr th {\n",
       "        vertical-align: top;\n",
       "    }\n",
       "\n",
       "    .dataframe thead th {\n",
       "        text-align: right;\n",
       "    }\n",
       "</style>\n",
       "<table border=\"1\" class=\"dataframe\">\n",
       "  <thead>\n",
       "    <tr style=\"text-align: right;\">\n",
       "      <th></th>\n",
       "      <th>url</th>\n",
       "      <th>headline</th>\n",
       "      <th>summary</th>\n",
       "    </tr>\n",
       "  </thead>\n",
       "  <tbody>\n",
       "    <tr>\n",
       "      <th>0</th>\n",
       "      <td>https://www.independent.co.uk/news/world/europ...</td>\n",
       "      <td>Non-stunned halal and kosher meat not saleable...</td>\n",
       "      <td>Animals must be stunned prior to being killed ...</td>\n",
       "    </tr>\n",
       "    <tr>\n",
       "      <th>1</th>\n",
       "      <td>https://techxplore.com/news/2018-07-bacteria-p...</td>\n",
       "      <td>Solar cells powered by hybrid E. coli convert ...</td>\n",
       "      <td>Researchers in Canada have developed an innova...</td>\n",
       "    </tr>\n",
       "    <tr>\n",
       "      <th>2</th>\n",
       "      <td>http://www.themalaymailonline.com/malaysia/art...</td>\n",
       "      <td>Southeast Asia unprepared for ISIS attacks say...</td>\n",
       "      <td>Southeast Asia is unprepared for the rapidly-r...</td>\n",
       "    </tr>\n",
       "    <tr>\n",
       "      <th>3</th>\n",
       "      <td>http://www.scotsman.com/business/companies/ret...</td>\n",
       "      <td>Speedy Hire rejects calls for merger with HSS</td>\n",
       "      <td>In addition to calls from Toscafund to oust it...</td>\n",
       "    </tr>\n",
       "    <tr>\n",
       "      <th>4</th>\n",
       "      <td>http://www.wsj.com/articles/transferwise-plans...</td>\n",
       "      <td>TransferWise to launch China services\\n</td>\n",
       "      <td>TransferWise has announced plans to launch a c...</td>\n",
       "    </tr>\n",
       "  </tbody>\n",
       "</table>\n",
       "</div>"
      ],
      "text/plain": [
       "                                                 url  \\\n",
       "0  https://www.independent.co.uk/news/world/europ...   \n",
       "1  https://techxplore.com/news/2018-07-bacteria-p...   \n",
       "2  http://www.themalaymailonline.com/malaysia/art...   \n",
       "3  http://www.scotsman.com/business/companies/ret...   \n",
       "4  http://www.wsj.com/articles/transferwise-plans...   \n",
       "\n",
       "                                            headline  \\\n",
       "0  Non-stunned halal and kosher meat not saleable...   \n",
       "1  Solar cells powered by hybrid E. coli convert ...   \n",
       "2  Southeast Asia unprepared for ISIS attacks say...   \n",
       "3      Speedy Hire rejects calls for merger with HSS   \n",
       "4            TransferWise to launch China services\\n   \n",
       "\n",
       "                                             summary  \n",
       "0  Animals must be stunned prior to being killed ...  \n",
       "1  Researchers in Canada have developed an innova...  \n",
       "2  Southeast Asia is unprepared for the rapidly-r...  \n",
       "3  In addition to calls from Toscafund to oust it...  \n",
       "4  TransferWise has announced plans to launch a c...  "
      ]
     },
     "execution_count": 2,
     "metadata": {},
     "output_type": "execute_result"
    }
   ],
   "source": [
    "data = pd.read_csv('data.csv')\n",
    "stopwords_eng = stopwords.words('english')\n",
    "lemmatizer = WordNetLemmatizer()\n",
    "data.head()"
   ]
  },
  {
   "cell_type": "code",
   "execution_count": 3,
   "metadata": {},
   "outputs": [
    {
     "data": {
      "text/plain": [
       "40000"
      ]
     },
     "execution_count": 3,
     "metadata": {},
     "output_type": "execute_result"
    }
   ],
   "source": [
    "data.shape[0]"
   ]
  },
  {
   "cell_type": "code",
   "execution_count": 4,
   "metadata": {
    "scrolled": true
   },
   "outputs": [],
   "source": [
    "data = data.head(1000)"
   ]
  },
  {
   "cell_type": "code",
   "execution_count": 5,
   "metadata": {},
   "outputs": [
    {
     "data": {
      "text/plain": [
       "(1000, 3)"
      ]
     },
     "execution_count": 5,
     "metadata": {},
     "output_type": "execute_result"
    }
   ],
   "source": [
    "data.shape"
   ]
  },
  {
   "cell_type": "code",
   "execution_count": 6,
   "metadata": {},
   "outputs": [],
   "source": [
    "def process_text(text):\n",
    "    text = text.replace(\"\\n\",\" \").replace(\"\\r\",\" \")\n",
    "    text = text.replace(\"\\xa0\",\" \")\n",
    "\n",
    "    punc_list = '!\"#$%()*+,-./:;<=>?@^_{|}~'\n",
    "    t = str.maketrans(dict.fromkeys(punc_list,\" \"))\n",
    "    text = text.translate(t)\n",
    "\n",
    "    t = str.maketrans(dict.fromkeys(\"'`\",\"\"))\n",
    "    text = text.translate(t)\n",
    "\n",
    "    tokens = regexp_tokenize(text,pattern='\\s+',gaps=True)\n",
    "    cleaned_tokens = []\n",
    "\n",
    "    for t in tokens:\n",
    "        if t not in stopwords_eng:\n",
    "            l = lemmatizer.lemmatize(t)\n",
    "            cleaned_tokens.append(l)\n",
    "\n",
    "    return cleaned_tokens\n",
    "\n",
    "def get_vec(word):\n",
    "    try:\n",
    "        return model[word]\n",
    "    except:\n",
    "        return np.zeros(300)"
   ]
  },
  {
   "cell_type": "code",
   "execution_count": 7,
   "metadata": {},
   "outputs": [],
   "source": [
    "model = KeyedVectors.load_word2vec_format('./GoogleNews-vectors-negative300.bin',binary=True,limit=10**5)"
   ]
  },
  {
   "cell_type": "code",
   "execution_count": 8,
   "metadata": {},
   "outputs": [
    {
     "data": {
      "text/plain": [
       "url         0\n",
       "headline    1\n",
       "summary     2\n",
       "dtype: int64"
      ]
     },
     "execution_count": 8,
     "metadata": {},
     "output_type": "execute_result"
    }
   ],
   "source": [
    "data.isna().sum()"
   ]
  },
  {
   "cell_type": "code",
   "execution_count": 9,
   "metadata": {
    "scrolled": true
   },
   "outputs": [],
   "source": [
    "data = data.dropna()"
   ]
  },
  {
   "cell_type": "code",
   "execution_count": 10,
   "metadata": {},
   "outputs": [
    {
     "data": {
      "text/html": [
       "<div>\n",
       "<style scoped>\n",
       "    .dataframe tbody tr th:only-of-type {\n",
       "        vertical-align: middle;\n",
       "    }\n",
       "\n",
       "    .dataframe tbody tr th {\n",
       "        vertical-align: top;\n",
       "    }\n",
       "\n",
       "    .dataframe thead th {\n",
       "        text-align: right;\n",
       "    }\n",
       "</style>\n",
       "<table border=\"1\" class=\"dataframe\">\n",
       "  <thead>\n",
       "    <tr style=\"text-align: right;\">\n",
       "      <th></th>\n",
       "      <th>url</th>\n",
       "      <th>headline</th>\n",
       "      <th>summary</th>\n",
       "    </tr>\n",
       "  </thead>\n",
       "  <tbody>\n",
       "    <tr>\n",
       "      <th>0</th>\n",
       "      <td>https://www.independent.co.uk/news/world/europ...</td>\n",
       "      <td>Non-stunned halal and kosher meat not saleable...</td>\n",
       "      <td>Animals must be stunned prior to being killed ...</td>\n",
       "    </tr>\n",
       "    <tr>\n",
       "      <th>1</th>\n",
       "      <td>https://techxplore.com/news/2018-07-bacteria-p...</td>\n",
       "      <td>Solar cells powered by hybrid E. coli convert ...</td>\n",
       "      <td>Researchers in Canada have developed an innova...</td>\n",
       "    </tr>\n",
       "    <tr>\n",
       "      <th>2</th>\n",
       "      <td>http://www.themalaymailonline.com/malaysia/art...</td>\n",
       "      <td>Southeast Asia unprepared for ISIS attacks say...</td>\n",
       "      <td>Southeast Asia is unprepared for the rapidly-r...</td>\n",
       "    </tr>\n",
       "    <tr>\n",
       "      <th>3</th>\n",
       "      <td>http://www.scotsman.com/business/companies/ret...</td>\n",
       "      <td>Speedy Hire rejects calls for merger with HSS</td>\n",
       "      <td>In addition to calls from Toscafund to oust it...</td>\n",
       "    </tr>\n",
       "    <tr>\n",
       "      <th>4</th>\n",
       "      <td>http://www.wsj.com/articles/transferwise-plans...</td>\n",
       "      <td>TransferWise to launch China services\\n</td>\n",
       "      <td>TransferWise has announced plans to launch a c...</td>\n",
       "    </tr>\n",
       "  </tbody>\n",
       "</table>\n",
       "</div>"
      ],
      "text/plain": [
       "                                                 url  \\\n",
       "0  https://www.independent.co.uk/news/world/europ...   \n",
       "1  https://techxplore.com/news/2018-07-bacteria-p...   \n",
       "2  http://www.themalaymailonline.com/malaysia/art...   \n",
       "3  http://www.scotsman.com/business/companies/ret...   \n",
       "4  http://www.wsj.com/articles/transferwise-plans...   \n",
       "\n",
       "                                            headline  \\\n",
       "0  Non-stunned halal and kosher meat not saleable...   \n",
       "1  Solar cells powered by hybrid E. coli convert ...   \n",
       "2  Southeast Asia unprepared for ISIS attacks say...   \n",
       "3      Speedy Hire rejects calls for merger with HSS   \n",
       "4            TransferWise to launch China services\\n   \n",
       "\n",
       "                                             summary  \n",
       "0  Animals must be stunned prior to being killed ...  \n",
       "1  Researchers in Canada have developed an innova...  \n",
       "2  Southeast Asia is unprepared for the rapidly-r...  \n",
       "3  In addition to calls from Toscafund to oust it...  \n",
       "4  TransferWise has announced plans to launch a c...  "
      ]
     },
     "execution_count": 10,
     "metadata": {},
     "output_type": "execute_result"
    }
   ],
   "source": [
    "data.head(5)"
   ]
  },
  {
   "cell_type": "code",
   "execution_count": 11,
   "metadata": {},
   "outputs": [
    {
     "data": {
      "text/plain": [
       "'https://www.independent.co.uk/news/world/europe/halal-kosher-meat-organic-stunning-eu-court-ruling-a8797761.html'"
      ]
     },
     "execution_count": 11,
     "metadata": {},
     "output_type": "execute_result"
    }
   ],
   "source": [
    "data.iloc[0]['url']"
   ]
  },
  {
   "cell_type": "code",
   "execution_count": 12,
   "metadata": {
    "scrolled": true
   },
   "outputs": [
    {
     "name": "stderr",
     "output_type": "stream",
     "text": [
      "100%|██████████| 997/997 [00:12<00:00, 81.53it/s] \n"
     ]
    }
   ],
   "source": [
    "data_dict = []\n",
    "for i in tqdm(range(data.shape[0])):\n",
    "    data_dict.append({\n",
    "        'url':data.iloc[i]['url'],\n",
    "        'headline':data.iloc[i]['headline'],\n",
    "        'tokens':process_text(data.iloc[i]['headline']),\n",
    "        'sentence_vector':sum([get_vec(t) for t in process_text(data.iloc[i]['headline'])]).tolist()\n",
    "    })"
   ]
  },
  {
   "cell_type": "code",
   "execution_count": 13,
   "metadata": {},
   "outputs": [
    {
     "name": "stdout",
     "output_type": "stream",
     "text": [
      "[{'url': 'https://www.independent.co.uk/news/world/europe/halal-kosher-meat-organic-stunning-eu-court-ruling-a8797761.html', 'headline': 'Non-stunned halal and kosher meat not saleable as organic: ECJ', 'tokens': ['Non', 'stunned', 'halal', 'kosher', 'meat', 'saleable', 'organic', 'ECJ'], 'sentence_vector': [-0.8790283203125, -0.692626953125, 1.00634765625, 0.5364990234375, -1.270263671875, 0.47216796875, -0.0860595703125, -1.35009765625, -0.19671630859375, 0.77069091796875, 0.7327880859375, -1.1787109375, -0.749725341796875, 0.36083984375, -1.71771240234375, 0.27362060546875, 0.669921875, 0.5650634765625, 0.34503173828125, 0.05712890625, 1.5106201171875, 0.375, 0.765625, 0.29473876953125, -0.5670166015625, -0.27925872802734375, -0.9154052734375, -0.0208740234375, 1.0550537109375, 0.08502197265625, -0.267333984375, -0.8868408203125, 0.73095703125, 0.0072021484375, -0.50311279296875, -0.3544921875, 0.9013214111328125, 0.34814453125, 0.536865234375, -0.2607421875, 0.5683135986328125, -0.341796875, -0.6441650390625, 1.124755859375, -1.380950927734375, -1.387451171875, -0.31207275390625, 0.47802734375, -0.57061767578125, 0.56396484375, 0.19189453125, -0.12646484375, -0.946044921875, 0.6749267578125, -0.60784912109375, -0.10888671875, 0.57080078125, -0.533233642578125, 0.010009765625, -1.681976318359375, -0.66217041015625, -0.30724334716796875, -0.10116767883300781, -0.3934326171875, 0.010986328125, -1.4996337890625, -0.68408203125, 0.02215576171875, 0.6564655303955078, -1.011474609375, -0.480926513671875, -0.34228515625, -0.63330078125, 0.50860595703125, -1.16455078125, -1.79296875, -1.189453125, -0.184844970703125, 0.2998046875, 0.374755859375, -1.191162109375, -1.9329833984375, 1.0173797607421875, 0.717254638671875, -0.467041015625, -0.48193359375, -0.7283935546875, 1.18798828125, 0.860595703125, -0.3095703125, -0.179779052734375, -0.07958984375, -1.219329833984375, -0.23095703125, -0.6226348876953125, -1.0335693359375, -0.746337890625, -0.0160980224609375, 0.218994140625, -1.11865234375, 0.8262939453125, -0.15045166015625, 0.0811767578125, 1.238525390625, 0.398681640625, -1.813720703125, 0.3134765625, 0.20086669921875, -0.5714111328125, -0.8433837890625, -0.575439453125, 0.02935791015625, -0.863037109375, 0.8653564453125, -0.13623046875, 0.53619384765625, -0.213134765625, -0.20062255859375, 0.62744140625, -0.53887939453125, 0.726226806640625, 0.123016357421875, -0.96087646484375, -1.533477783203125, -0.2236328125, -0.3050689697265625, -0.40771484375, -0.247802734375, -0.36865234375, -0.29608154296875, -0.767578125, 0.8812694549560547, -1.29638671875, 0.28515625, -0.4365234375, 1.2763671875, 0.348388671875, 0.9183349609375, 1.074462890625, -0.7027587890625, 0.30810546875, -0.6708984375, -0.18212890625, -0.5748291015625, -0.1898193359375, -0.5771484375, 0.5302734375, 0.2780303955078125, -1.5184326171875, 0.197265625, 0.283935546875, 0.8415679931640625, -1.049072265625, -0.6826171875, 0.3767852783203125, 0.3890380859375, -0.6947021484375, 0.2603569030761719, -0.146728515625, -1.26220703125, -1.912689208984375, 0.0458984375, 1.99658203125, -0.78564453125, 0.250579833984375, -0.473876953125, -0.074951171875, 0.5888671875, -0.455810546875, -0.145751953125, -2.19775390625, -0.735107421875, -0.555419921875, -0.2196044921875, -1.47467041015625, -0.322265625, 1.3546142578125, -0.563720703125, -0.37841796875, -0.982421875, -0.70684814453125, -1.678955078125, 0.365234375, -1.5159912109375, 1.02099609375, -0.270263671875, -1.189453125, 0.181640625, -0.9920654296875, 0.343994140625, -0.271728515625, -0.0458984375, 0.153076171875, 0.59356689453125, 0.54443359375, 1.23388671875, -0.2789306640625, -1.97119140625, -0.876220703125, -0.32489013671875, 0.529296875, -0.4290771484375, 0.02587890625, -0.4906005859375, -0.8167877197265625, 0.11395263671875, 0.44287109375, -0.113037109375, 0.6036376953125, -0.43212890625, -1.290771484375, -0.76104736328125, 0.7740478515625, 1.197265625, -0.1656494140625, 0.3542327880859375, 0.127197265625, 0.419189453125, 0.57666015625, -0.478363037109375, -0.195831298828125, 0.66461181640625, -0.45343017578125, 0.49267578125, 0.6962890625, -0.802490234375, 0.81982421875, -0.3441162109375, 0.3707275390625, -0.34423828125, 0.389892578125, -0.441650390625, 0.306396484375, 0.90087890625, -0.13018798828125, -1.1668701171875, 1.75, 0.68359375, -0.152587890625, 0.656585693359375, 0.64959716796875, -0.6943359375, 1.36865234375, 0.142333984375, -0.109375, -1.45556640625, 0.080078125, 0.202545166015625, -0.669677734375, -1.2939453125, -0.3695068359375, -0.0004425048828125, 0.225830078125, -1.0875244140625, 1.156005859375, -1.087890625, -0.85888671875, -0.3583984375, -0.2193603515625, 0.5902862548828125, 0.67041015625, -0.14501953125, -0.701171875, 0.6165771484375, 0.57421875, -0.5458831787109375, -0.20068359375, -0.921722412109375, 0.04266357421875, -0.85931396484375, -0.144683837890625, 0.47119140625, 0.68798828125, 1.14404296875, -0.134796142578125, -1.0023193359375, -0.700897216796875, -0.7750244140625, 0.045440673828125, 1.740478515625, -0.57855224609375, 0.170654296875, -0.4810791015625, 0.532470703125, -0.337005615234375, 0.3154296875, -0.27886962890625, 1.2763671875, -0.42730712890625, 1.43701171875, -0.20880126953125, -0.68359375, -0.587890625, 1.5078125, -0.228759765625, 0.35638427734375, 0.349609375, 0.052978515625, 0.5931110382080078, 0.285400390625]}]\n"
     ]
    }
   ],
   "source": [
    "print(data_dict[:1])"
   ]
  },
  {
   "cell_type": "code",
   "execution_count": 14,
   "metadata": {},
   "outputs": [
    {
     "data": {
      "text/html": [
       "<div>\n",
       "<style scoped>\n",
       "    .dataframe tbody tr th:only-of-type {\n",
       "        vertical-align: middle;\n",
       "    }\n",
       "\n",
       "    .dataframe tbody tr th {\n",
       "        vertical-align: top;\n",
       "    }\n",
       "\n",
       "    .dataframe thead th {\n",
       "        text-align: right;\n",
       "    }\n",
       "</style>\n",
       "<table border=\"1\" class=\"dataframe\">\n",
       "  <thead>\n",
       "    <tr style=\"text-align: right;\">\n",
       "      <th></th>\n",
       "      <th>headline</th>\n",
       "      <th>sentence_vector</th>\n",
       "      <th>tokens</th>\n",
       "      <th>url</th>\n",
       "    </tr>\n",
       "  </thead>\n",
       "  <tbody>\n",
       "    <tr>\n",
       "      <th>0</th>\n",
       "      <td>Non-stunned halal and kosher meat not saleable...</td>\n",
       "      <td>[-0.8790283203125, -0.692626953125, 1.00634765...</td>\n",
       "      <td>[Non, stunned, halal, kosher, meat, saleable, ...</td>\n",
       "      <td>https://www.independent.co.uk/news/world/europ...</td>\n",
       "    </tr>\n",
       "    <tr>\n",
       "      <th>1</th>\n",
       "      <td>Solar cells powered by hybrid E. coli convert ...</td>\n",
       "      <td>[-0.28662109375, 0.886474609375, 0.73211669921...</td>\n",
       "      <td>[Solar, cell, powered, hybrid, E, coli, conver...</td>\n",
       "      <td>https://techxplore.com/news/2018-07-bacteria-p...</td>\n",
       "    </tr>\n",
       "    <tr>\n",
       "      <th>2</th>\n",
       "      <td>Southeast Asia unprepared for ISIS attacks say...</td>\n",
       "      <td>[0.013671875, 0.665771484375, 0.24090576171875...</td>\n",
       "      <td>[Southeast, Asia, unprepared, ISIS, attack, sa...</td>\n",
       "      <td>http://www.themalaymailonline.com/malaysia/art...</td>\n",
       "    </tr>\n",
       "    <tr>\n",
       "      <th>3</th>\n",
       "      <td>Speedy Hire rejects calls for merger with HSS</td>\n",
       "      <td>[-0.567596435546875, 0.98150634765625, -0.0351...</td>\n",
       "      <td>[Speedy, Hire, reject, call, merger, HSS]</td>\n",
       "      <td>http://www.scotsman.com/business/companies/ret...</td>\n",
       "    </tr>\n",
       "    <tr>\n",
       "      <th>4</th>\n",
       "      <td>TransferWise to launch China services\\n</td>\n",
       "      <td>[-0.07177734375, 0.197509765625, -0.044921875,...</td>\n",
       "      <td>[TransferWise, launch, China, service]</td>\n",
       "      <td>http://www.wsj.com/articles/transferwise-plans...</td>\n",
       "    </tr>\n",
       "    <tr>\n",
       "      <th>5</th>\n",
       "      <td>Pollution and other environmental factor linke...</td>\n",
       "      <td>[0.11328125, 0.444091796875, 0.038375854492187...</td>\n",
       "      <td>[Pollution, environmental, factor, linked, dem...</td>\n",
       "      <td>http://www.standard.co.uk/news/uk/londoners-at...</td>\n",
       "    </tr>\n",
       "    <tr>\n",
       "      <th>6</th>\n",
       "      <td>Soft Silhouette is used to treat sagging skin</td>\n",
       "      <td>[0.243408203125, 0.9223136901855469, 0.1621093...</td>\n",
       "      <td>[Soft, Silhouette, used, treat, sagging, skin]</td>\n",
       "      <td>http://www.vanitatis.elconfidencial.com/estilo...</td>\n",
       "    </tr>\n",
       "    <tr>\n",
       "      <th>7</th>\n",
       "      <td>Japan's new law bans bias against disabilities</td>\n",
       "      <td>[-0.12664794921875, -0.4520263671875, 0.567382...</td>\n",
       "      <td>[Japans, new, law, ban, bias, disability]</td>\n",
       "      <td>http://www.japantimes.co.jp/news/2016/05/02/re...</td>\n",
       "    </tr>\n",
       "    <tr>\n",
       "      <th>8</th>\n",
       "      <td>San Francisco restaurants serve up more co-wor...</td>\n",
       "      <td>[-0.68701171875, -0.43695068359375, 0.73187255...</td>\n",
       "      <td>[San, Francisco, restaurant, serve, co, workin...</td>\n",
       "      <td>https://www.msn.com/en-ph/foodanddrink/foodnew...</td>\n",
       "    </tr>\n",
       "    <tr>\n",
       "      <th>9</th>\n",
       "      <td>UK councils tripled overseas hires of social ...</td>\n",
       "      <td>[-0.234375, -0.016143798828125, -0.27863311767...</td>\n",
       "      <td>[UK, council, tripled, overseas, hire, social,...</td>\n",
       "      <td>http://www.communitycare.co.uk/2017/07/20/coun...</td>\n",
       "    </tr>\n",
       "  </tbody>\n",
       "</table>\n",
       "</div>"
      ],
      "text/plain": [
       "                                            headline  \\\n",
       "0  Non-stunned halal and kosher meat not saleable...   \n",
       "1  Solar cells powered by hybrid E. coli convert ...   \n",
       "2  Southeast Asia unprepared for ISIS attacks say...   \n",
       "3      Speedy Hire rejects calls for merger with HSS   \n",
       "4            TransferWise to launch China services\\n   \n",
       "5  Pollution and other environmental factor linke...   \n",
       "6      Soft Silhouette is used to treat sagging skin   \n",
       "7     Japan's new law bans bias against disabilities   \n",
       "8  San Francisco restaurants serve up more co-wor...   \n",
       "9   UK councils tripled overseas hires of social ...   \n",
       "\n",
       "                                     sentence_vector  \\\n",
       "0  [-0.8790283203125, -0.692626953125, 1.00634765...   \n",
       "1  [-0.28662109375, 0.886474609375, 0.73211669921...   \n",
       "2  [0.013671875, 0.665771484375, 0.24090576171875...   \n",
       "3  [-0.567596435546875, 0.98150634765625, -0.0351...   \n",
       "4  [-0.07177734375, 0.197509765625, -0.044921875,...   \n",
       "5  [0.11328125, 0.444091796875, 0.038375854492187...   \n",
       "6  [0.243408203125, 0.9223136901855469, 0.1621093...   \n",
       "7  [-0.12664794921875, -0.4520263671875, 0.567382...   \n",
       "8  [-0.68701171875, -0.43695068359375, 0.73187255...   \n",
       "9  [-0.234375, -0.016143798828125, -0.27863311767...   \n",
       "\n",
       "                                              tokens  \\\n",
       "0  [Non, stunned, halal, kosher, meat, saleable, ...   \n",
       "1  [Solar, cell, powered, hybrid, E, coli, conver...   \n",
       "2  [Southeast, Asia, unprepared, ISIS, attack, sa...   \n",
       "3          [Speedy, Hire, reject, call, merger, HSS]   \n",
       "4             [TransferWise, launch, China, service]   \n",
       "5  [Pollution, environmental, factor, linked, dem...   \n",
       "6     [Soft, Silhouette, used, treat, sagging, skin]   \n",
       "7          [Japans, new, law, ban, bias, disability]   \n",
       "8  [San, Francisco, restaurant, serve, co, workin...   \n",
       "9  [UK, council, tripled, overseas, hire, social,...   \n",
       "\n",
       "                                                 url  \n",
       "0  https://www.independent.co.uk/news/world/europ...  \n",
       "1  https://techxplore.com/news/2018-07-bacteria-p...  \n",
       "2  http://www.themalaymailonline.com/malaysia/art...  \n",
       "3  http://www.scotsman.com/business/companies/ret...  \n",
       "4  http://www.wsj.com/articles/transferwise-plans...  \n",
       "5  http://www.standard.co.uk/news/uk/londoners-at...  \n",
       "6  http://www.vanitatis.elconfidencial.com/estilo...  \n",
       "7  http://www.japantimes.co.jp/news/2016/05/02/re...  \n",
       "8  https://www.msn.com/en-ph/foodanddrink/foodnew...  \n",
       "9  http://www.communitycare.co.uk/2017/07/20/coun...  "
      ]
     },
     "execution_count": 14,
     "metadata": {},
     "output_type": "execute_result"
    }
   ],
   "source": [
    "pd.DataFrame(data_dict).head(10)"
   ]
  },
  {
   "cell_type": "code",
   "execution_count": null,
   "metadata": {},
   "outputs": [],
   "source": []
  }
 ],
 "metadata": {
  "kernelspec": {
   "display_name": "Python 3.7.2 64-bit",
   "language": "python",
   "name": "python37264bitf057b37a75a34fd4ab2d6f607a314ee3"
  },
  "language_info": {
   "codemirror_mode": {
    "name": "ipython",
    "version": 3
   },
   "file_extension": ".py",
   "mimetype": "text/x-python",
   "name": "python",
   "nbconvert_exporter": "python",
   "pygments_lexer": "ipython3",
   "version": "3.7.2"
  }
 },
 "nbformat": 4,
 "nbformat_minor": 2
}
