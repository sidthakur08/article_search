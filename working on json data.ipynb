{
 "cells": [
  {
   "cell_type": "code",
   "execution_count": 1,
   "metadata": {},
   "outputs": [],
   "source": [
    "import numpy as np\n",
    "import json\n",
    "import itertools\n",
    "from tqdm import tqdm\n",
    "from scipy import spatial\n",
    "from sklearn.metrics.pairwise import cosine_similarity"
   ]
  },
  {
   "cell_type": "code",
   "execution_count": 2,
   "metadata": {},
   "outputs": [],
   "source": [
    "with open('./data_2.json') as f:\n",
    "    data = json.load(f)\n",
    "data = data[:1000]"
   ]
  },
  {
   "cell_type": "code",
   "execution_count": 3,
   "metadata": {},
   "outputs": [
    {
     "data": {
      "text/plain": [
       "1000"
      ]
     },
     "execution_count": 3,
     "metadata": {},
     "output_type": "execute_result"
    }
   ],
   "source": [
    "len(data)"
   ]
  },
  {
   "cell_type": "code",
   "execution_count": 4,
   "metadata": {
    "scrolled": true
   },
   "outputs": [
    {
     "name": "stdout",
     "output_type": "stream",
     "text": [
      "FreshNews.com - Technology News Flux Power Selected as a Finalist for CONNECT's 28th Annual Most Innovative New Product Awards\n"
     ]
    }
   ],
   "source": [
    "print(data[1]['full_title'])"
   ]
  },
  {
   "cell_type": "code",
   "execution_count": 5,
   "metadata": {},
   "outputs": [],
   "source": [
    "def cs():\n",
    "    return cosine_similarity([data[0]['sentence_vector']],[data[1]['sentence_vector']])"
   ]
  },
  {
   "cell_type": "code",
   "execution_count": 6,
   "metadata": {},
   "outputs": [],
   "source": [
    "def get_similarity(a,b):\n",
    "    return 1 - spatial.distance.cosine(a,b)"
   ]
  },
  {
   "cell_type": "code",
   "execution_count": 7,
   "metadata": {},
   "outputs": [
    {
     "name": "stdout",
     "output_type": "stream",
     "text": [
      "0.5765918344315953\n"
     ]
    }
   ],
   "source": [
    "print(get_similarity(data[0]['sentence_vector'],data[1]['sentence_vector']))"
   ]
  },
  {
   "cell_type": "code",
   "execution_count": 8,
   "metadata": {},
   "outputs": [
    {
     "name": "stdout",
     "output_type": "stream",
     "text": [
      "1.18 ms ± 84 µs per loop (mean ± std. dev. of 7 runs, 1000 loops each)\n"
     ]
    }
   ],
   "source": [
    "%timeit cs()"
   ]
  },
  {
   "cell_type": "code",
   "execution_count": 9,
   "metadata": {},
   "outputs": [
    {
     "name": "stdout",
     "output_type": "stream",
     "text": [
      "114 µs ± 28.9 µs per loop (mean ± std. dev. of 7 runs, 10000 loops each)\n"
     ]
    }
   ],
   "source": [
    "%timeit get_similarity(data[0]['sentence_vector'],data[1]['sentence_vector'])"
   ]
  },
  {
   "cell_type": "code",
   "execution_count": 10,
   "metadata": {},
   "outputs": [],
   "source": [
    "def get_k_similar(to_search,k):\n",
    "    sim_ratings = []\n",
    "    for i in tqdm(range(len(data))):\n",
    "        sim_ratings.append(get_similarity(to_search['sentence_vector'],data[i]['sentence_vector']))\n",
    "    \n",
    "    sorted_sim_ratings = np.argsort(sim_ratings)[-k-1:-1]\n",
    "    sim_articles = [(data[s]['full_title'],sim_ratings[s]) for s in sorted_sim_ratings][::-1]\n",
    "    return sim_articles"
   ]
  },
  {
   "cell_type": "code",
   "execution_count": 11,
   "metadata": {
    "scrolled": true
   },
   "outputs": [
    {
     "name": "stderr",
     "output_type": "stream",
     "text": [
      "100%|██████████| 1000/1000 [00:00<00:00, 8122.42it/s]\n"
     ]
    },
    {
     "data": {
      "text/plain": [
       "[('News Archive: Technology China Ad Firm Sorry for Code to Snoop Apple User Data',\n",
       "  0.9528609510324993),\n",
       " (\"TechPinas : Philippines' Technology News, Tips and Reviews Blog Sony Xperia Z5 Premium Philippines Price and Release Date Guesstimate, Complete Specs, Key Features\",\n",
       "  0.6953881609075311),\n",
       " ('Science and Technology @ News Articles Network Gigamon to Report Third Quarter 2015 Financial Results on October 22, 2015',\n",
       "  0.6928445823888777)]"
      ]
     },
     "execution_count": 11,
     "metadata": {},
     "output_type": "execute_result"
    }
   ],
   "source": [
    "get_k_similar(data[0],3)"
   ]
  },
  {
   "cell_type": "code",
   "execution_count": 12,
   "metadata": {},
   "outputs": [
    {
     "name": "stdout",
     "output_type": "stream",
     "text": [
      "0.9528609510324993\n"
     ]
    }
   ],
   "source": [
    "print(get_similarity(data[0]['sentence_vector'],data[208]['sentence_vector']))"
   ]
  },
  {
   "cell_type": "code",
   "execution_count": 13,
   "metadata": {},
   "outputs": [
    {
     "name": "stdout",
     "output_type": "stream",
     "text": [
      "0.6953881609075311\n"
     ]
    }
   ],
   "source": [
    "print(get_similarity(data[0]['sentence_vector'],data[772]['sentence_vector']))"
   ]
  },
  {
   "cell_type": "code",
   "execution_count": 14,
   "metadata": {},
   "outputs": [
    {
     "name": "stdout",
     "output_type": "stream",
     "text": [
      "0.6928445823888777\n"
     ]
    }
   ],
   "source": [
    "print(get_similarity(data[0]['sentence_vector'],data[822]['sentence_vector']))"
   ]
  },
  {
   "cell_type": "code",
   "execution_count": null,
   "metadata": {},
   "outputs": [],
   "source": []
  }
 ],
 "metadata": {
  "kernelspec": {
   "display_name": "Python 3.7.2 64-bit",
   "language": "python",
   "name": "python37264bitf057b37a75a34fd4ab2d6f607a314ee3"
  },
  "language_info": {
   "codemirror_mode": {
    "name": "ipython",
    "version": 3
   },
   "file_extension": ".py",
   "mimetype": "text/x-python",
   "name": "python",
   "nbconvert_exporter": "python",
   "pygments_lexer": "ipython3",
   "version": "3.7.2"
  }
 },
 "nbformat": 4,
 "nbformat_minor": 2
}
