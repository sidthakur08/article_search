{
 "cells": [
  {
   "cell_type": "code",
   "execution_count": 1,
   "metadata": {},
   "outputs": [],
   "source": [
    "import numpy as np\n",
    "import pandas as pd\n",
    "import glob\n",
    "import json\n",
    "\n",
    "from collections import Counter\n",
    "from tqdm import tqdm\n",
    "\n",
    "from nltk.tokenize import regexp_tokenize\n",
    "from nltk.corpus import stopwords\n",
    "from nltk.stem import WordNetLemmatizer\n",
    "import string\n",
    "\n",
    "from gensim.models import KeyedVectors\n",
    "#from gensim.models import fasttext"
   ]
  },
  {
   "cell_type": "code",
   "execution_count": 2,
   "metadata": {},
   "outputs": [
    {
     "name": "stderr",
     "output_type": "stream",
     "text": [
      "[nltk_data] Downloading package wordnet to\n",
      "[nltk_data]     /Users/sidthakur08/nltk_data...\n",
      "[nltk_data]   Package wordnet is already up-to-date!\n"
     ]
    },
    {
     "data": {
      "text/plain": [
       "True"
      ]
     },
     "execution_count": 2,
     "metadata": {},
     "output_type": "execute_result"
    }
   ],
   "source": [
    "import nltk\n",
    "nltk.download('wordnet')"
   ]
  },
  {
   "cell_type": "code",
   "execution_count": 3,
   "metadata": {
    "scrolled": true
   },
   "outputs": [],
   "source": [
    "file = 1\n",
    "paths = glob.glob(f'./articles_data/{file}/*.json')\n",
    "paths = paths[:1000]"
   ]
  },
  {
   "cell_type": "code",
   "execution_count": 4,
   "metadata": {},
   "outputs": [],
   "source": [
    "article_data = []\n",
    "for path in paths:\n",
    "    with open(path) as f:\n",
    "        article_data.append(json.load(f))"
   ]
  },
  {
   "cell_type": "code",
   "execution_count": 5,
   "metadata": {},
   "outputs": [
    {
     "data": {
      "text/plain": [
       "dict_keys(['organizations', 'uuid', 'thread', 'author', 'url', 'ord_in_thread', 'title', 'locations', 'entities', 'highlightText', 'language', 'persons', 'text', 'external_links', 'published', 'crawled', 'highlightTitle'])"
      ]
     },
     "execution_count": 5,
     "metadata": {},
     "output_type": "execute_result"
    }
   ],
   "source": [
    "article_data[0].keys()"
   ]
  },
  {
   "cell_type": "code",
   "execution_count": 6,
   "metadata": {},
   "outputs": [
    {
     "data": {
      "text/plain": [
       "1000"
      ]
     },
     "execution_count": 6,
     "metadata": {},
     "output_type": "execute_result"
    }
   ],
   "source": [
    "len(article_data)"
   ]
  },
  {
   "cell_type": "code",
   "execution_count": 7,
   "metadata": {
    "scrolled": true
   },
   "outputs": [],
   "source": [
    "sections = []\n",
    "for i in range(1000):\n",
    "    sections.append(article_data[i]['thread']['section_title'])\n",
    "#Counter(sections)"
   ]
  },
  {
   "cell_type": "code",
   "execution_count": 8,
   "metadata": {},
   "outputs": [
    {
     "data": {
      "text/plain": [
       "{'organizations': [],\n",
       " 'uuid': 'ea5c49d229ded1a94679a075702e79d3a0a8848e',\n",
       " 'thread': {'social': {'gplus': {'shares': 0},\n",
       "   'pinterest': {'shares': 0},\n",
       "   'vk': {'shares': 0},\n",
       "   'linkedin': {'shares': 0},\n",
       "   'facebook': {'likes': 0, 'shares': 0, 'comments': 0},\n",
       "   'stumbledupon': {'shares': 0}},\n",
       "  'site_full': 'www.businesswire.com',\n",
       "  'main_image': '',\n",
       "  'site_section': 'http://feed.businesswire.com/rss/home/?rss=G1QFDERJXkJeGVtQXg==',\n",
       "  'section_title': 'Business Wire Technology: Mobile/Wireless News',\n",
       "  'url': 'http://www.businesswire.com/news/home/20150921006305/en/MobileSmith-4.0-Leap-Enterprise-App-Development-REST',\n",
       "  'country': 'US',\n",
       "  'title': 'MobileSmith 4.0 a Leap Forward in Enterprise App Development with REST Services, OAuth',\n",
       "  'performance_score': 0,\n",
       "  'site': 'businesswire.com',\n",
       "  'participants_count': 0,\n",
       "  'title_full': 'MobileSmith 4.0 a Leap Forward in Enterprise App Development with REST Services, OAuth',\n",
       "  'spam_score': 0.0,\n",
       "  'site_type': 'news',\n",
       "  'published': '2015-09-21T21:31:00.000+03:00',\n",
       "  'replies_count': 0,\n",
       "  'uuid': 'ea5c49d229ded1a94679a075702e79d3a0a8848e'},\n",
       " 'author': '',\n",
       " 'url': 'http://www.businesswire.com/news/home/20150921006305/en/MobileSmith-4.0-Leap-Enterprise-App-Development-REST',\n",
       " 'ord_in_thread': 0,\n",
       " 'title': 'MobileSmith 4.0 a Leap Forward in Enterprise App Development with REST Services, OAuth',\n",
       " 'locations': [],\n",
       " 'entities': {'persons': [], 'locations': [], 'organizations': []},\n",
       " 'highlightText': '',\n",
       " 'language': 'english',\n",
       " 'persons': [],\n",
       " 'text': 'MobileSmith 4.0 a Leap Forward in Enterprise App Development with REST Services, OAuth Non-programmers can leverage the improved MobileSmith platform to launch beautiful customer-facing apps and powerful enterprise apps with on-demand, two-way connection to any data sources September 21, 2015 02:31 PM Eastern Daylight Time \\nRALEIGH, N.C.--( BUSINESS WIRE )-- MobileSmith is thrilled to announce MobileSmith 4.0 – a new release of its award-winning mobile app development platform, now featuring easy REST API integration, OAuth 2.0 user authentication, and an improved user interface. MobileSmith enables non-programmers in enterprises to quickly produce flexible, connected apps for customers and employees. \\n“Five years ago, everyone just wanted to launch a mobile app. Today, enterprises are realizing that they need to design for mobile first to engage with their customers and employees,” said Bob Dieterle , MobileSmith COO. “ MobileSmith 4.0 delivers to this need by empowering business leaders to quickly produce beautiful, truly useful apps in a matter of days – without having to write any code.” \\nMobileSmith 4.0 new capabilities include: Easy and Quick REST API Integration for On-Demand Data \\nREST services allow you to connect your app to any data source in minutes. We use JSON, the industry standard for mobile, to exchange data on-demand between your backend system and any app page. With REST services, you can easily bring out your legacy data and flexibly include them in any internal or customer-facing apps, building connected omni-channel experiences for your customers and employees. OAuth 2.0 User Authentication for Less Cumbersome App Access \\nOAuth allows you to use existing authentication services in your mobile apps, without building cumbersome authentication interfaces for each app. Users can sign in with their social credentials or existing portal login. You can keep your data secure, while having the benefit of building quick native apps connected to your enterprise systems. Improved User Interface for Rapid App Development \\nOur goal is to make non-programmers totally comfortable creating fully functional, native iOS and Android apps in our platform. We’ve updated our workflow and UI, making app navigation inside the app canvas easier and introducing a number of intuitive functions. \\nFor more information about MobileSmith 4.0, visit http://www.mobilesmith.com/rest-services-oauth \\nWe will introduce MobileSmith 4.0 at our webinar on Thursday, October 1, 1:00pm EST , and show the many use cases you can build with REST and OAuth. Sign up: www.mobilesmith.com/4-0-intro-webinar \\nMobileSmith is a complete cloud solution for enterprise mobility and a powerful online platform that allows non-programmers to easily prototype, deploy, and manage native applications for iOS and Android smartphones and iPad tablets without coding. MobileSmith customers manage each app from a dedicated CMS; push messages to users’ devices, including Apple Watch, securely integrate their data sources via REST APIs and OAuth, and create sleek wayfinding apps powered with beacons and geofencing. Visit us: www.mobilesmith.com . Follow us: @TheMobileSmith Contacts',\n",
       " 'external_links': [],\n",
       " 'published': '2015-09-21T21:31:00.000+03:00',\n",
       " 'crawled': '2015-09-21T21:53:39.791+03:00',\n",
       " 'highlightTitle': ''}"
      ]
     },
     "execution_count": 8,
     "metadata": {},
     "output_type": "execute_result"
    }
   ],
   "source": [
    "article_data[0]"
   ]
  },
  {
   "cell_type": "code",
   "execution_count": 9,
   "metadata": {},
   "outputs": [],
   "source": [
    "stopwords_eng = stopwords.words('english')\n",
    "lemmatizer = WordNetLemmatizer()\n",
    "\n",
    "def process_text(text):\n",
    "    text = text.replace(\"\\n\",\" \").replace(\"\\r\",\" \")\n",
    "    \n",
    "    punc_list = '!\"#$%()*+,-./:;<=>?@^_{|}~'\n",
    "    t = str.maketrans(dict.fromkeys(punc_list,\" \"))\n",
    "    text = text.translate(t)\n",
    "    \n",
    "    t = str.maketrans(dict.fromkeys(\"'`\",\"\"))\n",
    "    text = text.translate(t)\n",
    "    \n",
    "    tokens = regexp_tokenize(text,pattern='\\s+',gaps=True)\n",
    "    cleaned_tokens = []\n",
    "    \n",
    "    for t in tokens:\n",
    "        if t not in stopwords_eng:\n",
    "            l = lemmatizer.lemmatize(t)\n",
    "            cleaned_tokens.append(l)\n",
    "    \n",
    "    return cleaned_tokens"
   ]
  },
  {
   "cell_type": "code",
   "execution_count": 10,
   "metadata": {
    "scrolled": false
   },
   "outputs": [
    {
     "name": "stdout",
     "output_type": "stream",
     "text": [
      "178 µs ± 58.8 µs per loop (mean ± std. dev. of 7 runs, 1 loop each)\n"
     ]
    }
   ],
   "source": [
    "%timeit process_text(\"Technology News | afr.com Business backs Malcolm Turnbull's 'fresh' look at reform | afr.com\")"
   ]
  },
  {
   "cell_type": "code",
   "execution_count": 11,
   "metadata": {},
   "outputs": [
    {
     "name": "stderr",
     "output_type": "stream",
     "text": [
      "100%|██████████| 1000/1000 [00:00<00:00, 4838.76it/s]\n"
     ]
    }
   ],
   "source": [
    "data = []\n",
    "t = 0\n",
    "for i in tqdm(range(len(article_data))):\n",
    "    data.append({\n",
    "        'uuid':article_data[i]['uuid'],\n",
    "        'full_title':article_data[i]['thread']['section_title']+' '+article_data[i]['thread']['title_full'],\n",
    "        'url':article_data[i]['thread']['url'],\n",
    "        'title_tokens':process_text(article_data[i]['thread']['section_title']+' '+article_data[i]['thread']['title_full'])\n",
    "        }\n",
    "    )"
   ]
  },
  {
   "cell_type": "code",
   "execution_count": 12,
   "metadata": {},
   "outputs": [],
   "source": [
    "model = KeyedVectors.load_word2vec_format(\"./GoogleNews-vectors-negative300.bin\",binary=True,limit=10**5)"
   ]
  },
  {
   "cell_type": "code",
   "execution_count": 13,
   "metadata": {},
   "outputs": [],
   "source": [
    "def get_vec(word):\n",
    "    try:\n",
    "        return model[word]\n",
    "    except:\n",
    "        return np.zeros(300)"
   ]
  },
  {
   "cell_type": "code",
   "execution_count": 20,
   "metadata": {},
   "outputs": [
    {
     "name": "stderr",
     "output_type": "stream",
     "text": [
      "100%|██████████| 1000/1000 [00:00<00:00, 1713.43it/s]\n"
     ]
    }
   ],
   "source": [
    "sent_vector = dict()\n",
    "for i in tqdm(range(len(data))):\n",
    "    sent_vector[data[i]['uuid']] = sum([get_vec(t) for t in data[i]['title_tokens']]).tolist()"
   ]
  },
  {
   "cell_type": "code",
   "execution_count": 22,
   "metadata": {},
   "outputs": [
    {
     "data": {
      "text/plain": [
       "300"
      ]
     },
     "execution_count": 22,
     "metadata": {},
     "output_type": "execute_result"
    }
   ],
   "source": [
    "len(sent_vector[data[0]['uuid']])"
   ]
  },
  {
   "cell_type": "code",
   "execution_count": null,
   "metadata": {},
   "outputs": [],
   "source": []
  }
 ],
 "metadata": {
  "kernelspec": {
   "display_name": "Python 3.7.2 64-bit",
   "language": "python",
   "name": "python37264bitf057b37a75a34fd4ab2d6f607a314ee3"
  },
  "language_info": {
   "codemirror_mode": {
    "name": "ipython",
    "version": 3
   },
   "file_extension": ".py",
   "mimetype": "text/x-python",
   "name": "python",
   "nbconvert_exporter": "python",
   "pygments_lexer": "ipython3",
   "version": "3.7.2"
  }
 },
 "nbformat": 4,
 "nbformat_minor": 2
}
