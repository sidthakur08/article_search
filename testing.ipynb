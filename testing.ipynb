{
 "cells": [
  {
   "cell_type": "code",
   "execution_count": 1,
   "metadata": {},
   "outputs": [],
   "source": [
    "import numpy as np\n",
    "import pandas as pd\n",
    "import glob\n",
    "import json\n",
    "\n",
    "from collections import Counter\n",
    "from tqdm import tqdm\n",
    "\n",
    "from nltk.tokenize import regexp_tokenize\n",
    "from nltk.corpus import stopwords\n",
    "from nltk.stem import WordNetLemmatizer\n",
    "import string\n",
    "\n",
    "from gensim.models import KeyedVectors\n",
    "#from gensim.models import fasttext"
   ]
  },
  {
   "cell_type": "code",
   "execution_count": 2,
   "metadata": {},
   "outputs": [
    {
     "name": "stderr",
     "output_type": "stream",
     "text": [
      "[nltk_data] Downloading package wordnet to\n",
      "[nltk_data]     /Users/sidthakur08/nltk_data...\n",
      "[nltk_data]   Package wordnet is already up-to-date!\n"
     ]
    },
    {
     "data": {
      "text/plain": [
       "True"
      ]
     },
     "execution_count": 2,
     "metadata": {},
     "output_type": "execute_result"
    }
   ],
   "source": [
    "import nltk\n",
    "nltk.download('wordnet')"
   ]
  },
  {
   "cell_type": "code",
   "execution_count": 3,
   "metadata": {
    "scrolled": true
   },
   "outputs": [],
   "source": [
    "file = 1\n",
    "paths = glob.glob(f'./articles_data/{file}/*.json')\n",
    "paths = paths[:1000]"
   ]
  },
  {
   "cell_type": "code",
   "execution_count": 4,
   "metadata": {},
   "outputs": [],
   "source": [
    "article_data = []\n",
    "for path in paths:\n",
    "    with open(path) as f:\n",
    "        article_data.append(json.load(f))"
   ]
  },
  {
   "cell_type": "code",
   "execution_count": 5,
   "metadata": {},
   "outputs": [
    {
     "data": {
      "text/plain": [
       "dict_keys(['organizations', 'uuid', 'thread', 'author', 'url', 'ord_in_thread', 'title', 'locations', 'entities', 'highlightText', 'language', 'persons', 'text', 'external_links', 'published', 'crawled', 'highlightTitle'])"
      ]
     },
     "execution_count": 5,
     "metadata": {},
     "output_type": "execute_result"
    }
   ],
   "source": [
    "article_data[0].keys()"
   ]
  },
  {
   "cell_type": "code",
   "execution_count": 6,
   "metadata": {},
   "outputs": [
    {
     "data": {
      "text/plain": [
       "1000"
      ]
     },
     "execution_count": 6,
     "metadata": {},
     "output_type": "execute_result"
    }
   ],
   "source": [
    "len(article_data)"
   ]
  },
  {
   "cell_type": "code",
   "execution_count": 7,
   "metadata": {
    "scrolled": true
   },
   "outputs": [],
   "source": [
    "sections = []\n",
    "for i in range(1000):\n",
    "    sections.append(article_data[i]['thread']['section_title'])\n",
    "#Counter(sections)"
   ]
  },
  {
   "cell_type": "code",
   "execution_count": 8,
   "metadata": {},
   "outputs": [
    {
     "data": {
      "text/plain": [
       "{'organizations': [],\n",
       " 'uuid': 'ea5c49d229ded1a94679a075702e79d3a0a8848e',\n",
       " 'thread': {'social': {'gplus': {'shares': 0},\n",
       "   'pinterest': {'shares': 0},\n",
       "   'vk': {'shares': 0},\n",
       "   'linkedin': {'shares': 0},\n",
       "   'facebook': {'likes': 0, 'shares': 0, 'comments': 0},\n",
       "   'stumbledupon': {'shares': 0}},\n",
       "  'site_full': 'www.businesswire.com',\n",
       "  'main_image': '',\n",
       "  'site_section': 'http://feed.businesswire.com/rss/home/?rss=G1QFDERJXkJeGVtQXg==',\n",
       "  'section_title': 'Business Wire Technology: Mobile/Wireless News',\n",
       "  'url': 'http://www.businesswire.com/news/home/20150921006305/en/MobileSmith-4.0-Leap-Enterprise-App-Development-REST',\n",
       "  'country': 'US',\n",
       "  'title': 'MobileSmith 4.0 a Leap Forward in Enterprise App Development with REST Services, OAuth',\n",
       "  'performance_score': 0,\n",
       "  'site': 'businesswire.com',\n",
       "  'participants_count': 0,\n",
       "  'title_full': 'MobileSmith 4.0 a Leap Forward in Enterprise App Development with REST Services, OAuth',\n",
       "  'spam_score': 0.0,\n",
       "  'site_type': 'news',\n",
       "  'published': '2015-09-21T21:31:00.000+03:00',\n",
       "  'replies_count': 0,\n",
       "  'uuid': 'ea5c49d229ded1a94679a075702e79d3a0a8848e'},\n",
       " 'author': '',\n",
       " 'url': 'http://www.businesswire.com/news/home/20150921006305/en/MobileSmith-4.0-Leap-Enterprise-App-Development-REST',\n",
       " 'ord_in_thread': 0,\n",
       " 'title': 'MobileSmith 4.0 a Leap Forward in Enterprise App Development with REST Services, OAuth',\n",
       " 'locations': [],\n",
       " 'entities': {'persons': [], 'locations': [], 'organizations': []},\n",
       " 'highlightText': '',\n",
       " 'language': 'english',\n",
       " 'persons': [],\n",
       " 'text': 'MobileSmith 4.0 a Leap Forward in Enterprise App Development with REST Services, OAuth Non-programmers can leverage the improved MobileSmith platform to launch beautiful customer-facing apps and powerful enterprise apps with on-demand, two-way connection to any data sources September 21, 2015 02:31 PM Eastern Daylight Time \\nRALEIGH, N.C.--( BUSINESS WIRE )-- MobileSmith is thrilled to announce MobileSmith 4.0 – a new release of its award-winning mobile app development platform, now featuring easy REST API integration, OAuth 2.0 user authentication, and an improved user interface. MobileSmith enables non-programmers in enterprises to quickly produce flexible, connected apps for customers and employees. \\n“Five years ago, everyone just wanted to launch a mobile app. Today, enterprises are realizing that they need to design for mobile first to engage with their customers and employees,” said Bob Dieterle , MobileSmith COO. “ MobileSmith 4.0 delivers to this need by empowering business leaders to quickly produce beautiful, truly useful apps in a matter of days – without having to write any code.” \\nMobileSmith 4.0 new capabilities include: Easy and Quick REST API Integration for On-Demand Data \\nREST services allow you to connect your app to any data source in minutes. We use JSON, the industry standard for mobile, to exchange data on-demand between your backend system and any app page. With REST services, you can easily bring out your legacy data and flexibly include them in any internal or customer-facing apps, building connected omni-channel experiences for your customers and employees. OAuth 2.0 User Authentication for Less Cumbersome App Access \\nOAuth allows you to use existing authentication services in your mobile apps, without building cumbersome authentication interfaces for each app. Users can sign in with their social credentials or existing portal login. You can keep your data secure, while having the benefit of building quick native apps connected to your enterprise systems. Improved User Interface for Rapid App Development \\nOur goal is to make non-programmers totally comfortable creating fully functional, native iOS and Android apps in our platform. We’ve updated our workflow and UI, making app navigation inside the app canvas easier and introducing a number of intuitive functions. \\nFor more information about MobileSmith 4.0, visit http://www.mobilesmith.com/rest-services-oauth \\nWe will introduce MobileSmith 4.0 at our webinar on Thursday, October 1, 1:00pm EST , and show the many use cases you can build with REST and OAuth. Sign up: www.mobilesmith.com/4-0-intro-webinar \\nMobileSmith is a complete cloud solution for enterprise mobility and a powerful online platform that allows non-programmers to easily prototype, deploy, and manage native applications for iOS and Android smartphones and iPad tablets without coding. MobileSmith customers manage each app from a dedicated CMS; push messages to users’ devices, including Apple Watch, securely integrate their data sources via REST APIs and OAuth, and create sleek wayfinding apps powered with beacons and geofencing. Visit us: www.mobilesmith.com . Follow us: @TheMobileSmith Contacts',\n",
       " 'external_links': [],\n",
       " 'published': '2015-09-21T21:31:00.000+03:00',\n",
       " 'crawled': '2015-09-21T21:53:39.791+03:00',\n",
       " 'highlightTitle': ''}"
      ]
     },
     "execution_count": 8,
     "metadata": {},
     "output_type": "execute_result"
    }
   ],
   "source": [
    "article_data[0]"
   ]
  },
  {
   "cell_type": "code",
   "execution_count": 9,
   "metadata": {},
   "outputs": [],
   "source": [
    "stopwords_eng = stopwords.words('english')\n",
    "lemmatizer = WordNetLemmatizer()\n",
    "\n",
    "def process_text(text):\n",
    "    text = text.replace(\"\\n\",\" \").replace(\"\\r\",\" \")\n",
    "    \n",
    "    punc_list = '!\"#$%()*+,-./:;<=>?@^_{|}~'\n",
    "    t = str.maketrans(dict.fromkeys(punc_list,\" \"))\n",
    "    text = text.translate(t)\n",
    "    \n",
    "    t = str.maketrans(dict.fromkeys(\"'`\",\"\"))\n",
    "    text = text.translate(t)\n",
    "    \n",
    "    tokens = regexp_tokenize(text,pattern='\\s+',gaps=True)\n",
    "    cleaned_tokens = []\n",
    "    \n",
    "    for t in tokens:\n",
    "        if t not in stopwords_eng:\n",
    "            l = lemmatizer.lemmatize(t)\n",
    "            cleaned_tokens.append(l)\n",
    "    \n",
    "    return cleaned_tokens"
   ]
  },
  {
   "cell_type": "code",
   "execution_count": 10,
   "metadata": {
    "scrolled": false
   },
   "outputs": [
    {
     "name": "stdout",
     "output_type": "stream",
     "text": [
      "The slowest run took 4.24 times longer than the fastest. This could mean that an intermediate result is being cached.\n",
      "325 µs ± 197 µs per loop (mean ± std. dev. of 7 runs, 1 loop each)\n"
     ]
    }
   ],
   "source": [
    "%timeit process_text(\"Technology News | afr.com Business backs Malcolm Turnbull's 'fresh' look at reform | afr.com\")"
   ]
  },
  {
   "cell_type": "raw",
   "metadata": {},
   "source": [
    "data = []\n",
    "t = 0\n",
    "for i in tqdm(range(len(article_data))):\n",
    "    data.append({\n",
    "        'uuid':article_data[i]['uuid'],\n",
    "        'full_title':article_data[i]['thread']['section_title']+' '+article_data[i]['thread']['title_full'],\n",
    "        'url':article_data[i]['thread']['url'],\n",
    "        'title_tokens':process_text(article_data[i]['thread']['section_title']+' '+article_data[i]['thread']['title_full'])\n",
    "        }\n",
    "    )"
   ]
  },
  {
   "cell_type": "code",
   "execution_count": 11,
   "metadata": {},
   "outputs": [],
   "source": [
    "model = KeyedVectors.load_word2vec_format(\"./GoogleNews-vectors-negative300.bin\",binary=True,limit=10**5)"
   ]
  },
  {
   "cell_type": "code",
   "execution_count": 12,
   "metadata": {},
   "outputs": [],
   "source": [
    "def get_vec(word):\n",
    "    try:\n",
    "        return model[word]\n",
    "    except:\n",
    "        return np.zeros(300)"
   ]
  },
  {
   "cell_type": "code",
   "execution_count": 13,
   "metadata": {},
   "outputs": [
    {
     "name": "stderr",
     "output_type": "stream",
     "text": [
      "100%|██████████| 1000/1000 [00:00<00:00, 2406.70it/s]\n"
     ]
    }
   ],
   "source": [
    "final_data = []\n",
    "for i in tqdm(range(len(article_data))):\n",
    "    full_title = article_data[i]['thread']['section_title']+' '+article_data[i]['thread']['title_full']\n",
    "    url = article_data[i]['thread']['url'],\n",
    "    tokens = process_text(full_title)\n",
    "    vector = sum([get_vec(t) for t in tokens]).tolist()\n",
    "    final_data.append({\n",
    "        'full_title': full_title,\n",
    "        'url': url,\n",
    "        'title_tokens': tokens,\n",
    "        'sentence_vector': vector\n",
    "    }\n",
    "    )"
   ]
  },
  {
   "cell_type": "code",
   "execution_count": 14,
   "metadata": {},
   "outputs": [
    {
     "data": {
      "text/plain": [
       "{'full_title': 'Business Wire Technology: Mobile/Wireless News MobileSmith 4.0 a Leap Forward in Enterprise App Development with REST Services, OAuth',\n",
       " 'url': ('http://www.businesswire.com/news/home/20150921006305/en/MobileSmith-4.0-Leap-Enterprise-App-Development-REST',),\n",
       " 'title_tokens': ['Business',\n",
       "  'Wire',\n",
       "  'Technology',\n",
       "  'Mobile',\n",
       "  'Wireless',\n",
       "  'News',\n",
       "  'MobileSmith',\n",
       "  '4',\n",
       "  '0',\n",
       "  'Leap',\n",
       "  'Forward',\n",
       "  'Enterprise',\n",
       "  'App',\n",
       "  'Development',\n",
       "  'REST',\n",
       "  'Services',\n",
       "  'OAuth'],\n",
       " 'sentence_vector': [-0.1695556640625,\n",
       "  -2.09326171875,\n",
       "  -0.3275146484375,\n",
       "  -1.363800048828125,\n",
       "  -0.3109130859375,\n",
       "  0.042724609375,\n",
       "  1.2889423370361328,\n",
       "  1.23516845703125,\n",
       "  0.711273193359375,\n",
       "  -0.2864990234375,\n",
       "  -0.23089599609375,\n",
       "  0.987762451171875,\n",
       "  0.3082275390625,\n",
       "  -0.448486328125,\n",
       "  -1.177734375,\n",
       "  -1.1090087890625,\n",
       "  0.580810546875,\n",
       "  -0.09619140625,\n",
       "  -0.97698974609375,\n",
       "  0.28033447265625,\n",
       "  -0.08795166015625,\n",
       "  1.004425048828125,\n",
       "  0.289337158203125,\n",
       "  0.253570556640625,\n",
       "  0.79864501953125,\n",
       "  1.0419921875,\n",
       "  -0.3637237548828125,\n",
       "  1.591705322265625,\n",
       "  2.36529541015625,\n",
       "  -0.454132080078125,\n",
       "  -0.937255859375,\n",
       "  -0.65966796875,\n",
       "  0.722991943359375,\n",
       "  -2.4656982421875,\n",
       "  1.0645751953125,\n",
       "  -0.8582763671875,\n",
       "  -0.597808837890625,\n",
       "  -1.15625,\n",
       "  -2.46051025390625,\n",
       "  2.40753173828125,\n",
       "  -0.50927734375,\n",
       "  -0.65087890625,\n",
       "  -0.577880859375,\n",
       "  0.90087890625,\n",
       "  0.096435546875,\n",
       "  -1.8309326171875,\n",
       "  -1.22607421875,\n",
       "  -1.62744140625,\n",
       "  0.31219482421875,\n",
       "  1.64337158203125,\n",
       "  -2.2757568359375,\n",
       "  1.27349853515625,\n",
       "  0.21142578125,\n",
       "  1.566741943359375,\n",
       "  -0.3377685546875,\n",
       "  2.23486328125,\n",
       "  -2.6495361328125,\n",
       "  0.320587158203125,\n",
       "  -0.3125,\n",
       "  -0.86737060546875,\n",
       "  -0.853759765625,\n",
       "  0.513427734375,\n",
       "  -2.9453125,\n",
       "  -0.105926513671875,\n",
       "  -1.5048828125,\n",
       "  0.063690185546875,\n",
       "  -0.6324462890625,\n",
       "  2.1640625,\n",
       "  0.64837646484375,\n",
       "  1.407806396484375,\n",
       "  -0.7775115966796875,\n",
       "  -2.3436279296875,\n",
       "  -0.603271484375,\n",
       "  -0.19954681396484375,\n",
       "  1.1729736328125,\n",
       "  -2.2723388671875,\n",
       "  0.43212890625,\n",
       "  -0.675140380859375,\n",
       "  0.8963470458984375,\n",
       "  -0.4654541015625,\n",
       "  0.396728515625,\n",
       "  0.269287109375,\n",
       "  0.4764404296875,\n",
       "  0.8043212890625,\n",
       "  0.508941650390625,\n",
       "  -2.15606689453125,\n",
       "  0.7762908935546875,\n",
       "  1.7330322265625,\n",
       "  0.6376953125,\n",
       "  -0.049560546875,\n",
       "  -0.79803466796875,\n",
       "  -0.14274215698242188,\n",
       "  -1.2527618408203125,\n",
       "  -1.0755615234375,\n",
       "  0.349853515625,\n",
       "  1.46807861328125,\n",
       "  2.0335693359375,\n",
       "  1.1309814453125,\n",
       "  0.7410888671875,\n",
       "  0.3641357421875,\n",
       "  0.808349609375,\n",
       "  -1.2357177734375,\n",
       "  -0.3737297058105469,\n",
       "  -0.853759765625,\n",
       "  0.03717041015625,\n",
       "  0.648193359375,\n",
       "  -0.659912109375,\n",
       "  -0.7766799926757812,\n",
       "  0.348388671875,\n",
       "  -0.2813873291015625,\n",
       "  0.9699516296386719,\n",
       "  -0.612640380859375,\n",
       "  -0.57928466796875,\n",
       "  -1.8798828125,\n",
       "  0.26922607421875,\n",
       "  1.028076171875,\n",
       "  1.1907958984375,\n",
       "  0.34497833251953125,\n",
       "  2.52691650390625,\n",
       "  -0.2630615234375,\n",
       "  -0.0902099609375,\n",
       "  0.673614501953125,\n",
       "  -2.326416015625,\n",
       "  -0.022216796875,\n",
       "  -0.57122802734375,\n",
       "  0.5153732299804688,\n",
       "  -2.9754104614257812,\n",
       "  1.011993408203125,\n",
       "  0.58612060546875,\n",
       "  0.5419921875,\n",
       "  -1.1324462890625,\n",
       "  0.582275390625,\n",
       "  -0.61175537109375,\n",
       "  -3.20361328125,\n",
       "  -0.62371826171875,\n",
       "  0.14598846435546875,\n",
       "  0.168548583984375,\n",
       "  1.8655548095703125,\n",
       "  -0.3951416015625,\n",
       "  1.359130859375,\n",
       "  0.61468505859375,\n",
       "  -0.40789794921875,\n",
       "  0.665740966796875,\n",
       "  1.0437088012695312,\n",
       "  -0.5331382751464844,\n",
       "  -0.6292724609375,\n",
       "  1.6642532348632812,\n",
       "  0.84259033203125,\n",
       "  1.08673095703125,\n",
       "  -0.00262451171875,\n",
       "  1.0350341796875,\n",
       "  -1.5036163330078125,\n",
       "  -0.02862548828125,\n",
       "  0.25091552734375,\n",
       "  -0.837188720703125,\n",
       "  0.2823944091796875,\n",
       "  0.615966796875,\n",
       "  -1.27081298828125,\n",
       "  -0.546142578125,\n",
       "  -0.98553466796875,\n",
       "  0.8682861328125,\n",
       "  1.0301971435546875,\n",
       "  0.1500244140625,\n",
       "  0.320709228515625,\n",
       "  1.159820556640625,\n",
       "  1.031982421875,\n",
       "  2.9001312255859375,\n",
       "  0.8712158203125,\n",
       "  -1.4481201171875,\n",
       "  0.631378173828125,\n",
       "  0.68994140625,\n",
       "  -1.0093994140625,\n",
       "  0.55767822265625,\n",
       "  -3.03350830078125,\n",
       "  -0.711181640625,\n",
       "  1.68408203125,\n",
       "  1.4351806640625,\n",
       "  -1.7314453125,\n",
       "  -1.28076171875,\n",
       "  -0.1883544921875,\n",
       "  -1.9010009765625,\n",
       "  -1.3720703125,\n",
       "  1.37750244140625,\n",
       "  0.2081298828125,\n",
       "  -0.370849609375,\n",
       "  -2.6907958984375,\n",
       "  1.294189453125,\n",
       "  2.074737548828125,\n",
       "  0.678466796875,\n",
       "  -1.03631591796875,\n",
       "  -1.1419677734375,\n",
       "  -1.3031005859375,\n",
       "  -1.246826171875,\n",
       "  -0.303466796875,\n",
       "  -3.069580078125,\n",
       "  1.08807373046875,\n",
       "  -0.14752197265625,\n",
       "  -1.769287109375,\n",
       "  1.92431640625,\n",
       "  -1.615234375,\n",
       "  -0.52783203125,\n",
       "  0.0767822265625,\n",
       "  0.6212158203125,\n",
       "  0.07330322265625,\n",
       "  -0.7479248046875,\n",
       "  0.5732345581054688,\n",
       "  0.03192138671875,\n",
       "  0.06298828125,\n",
       "  0.58416748046875,\n",
       "  -1.521514892578125,\n",
       "  0.2183380126953125,\n",
       "  0.2766914367675781,\n",
       "  -0.139892578125,\n",
       "  0.8873291015625,\n",
       "  -0.49786376953125,\n",
       "  0.8529052734375,\n",
       "  0.712646484375,\n",
       "  -0.605743408203125,\n",
       "  0.62530517578125,\n",
       "  -0.2344970703125,\n",
       "  -0.0943603515625,\n",
       "  1.484130859375,\n",
       "  -1.577301025390625,\n",
       "  0.199462890625,\n",
       "  -1.5235595703125,\n",
       "  0.042724609375,\n",
       "  -0.63275146484375,\n",
       "  0.99224853515625,\n",
       "  -1.34088134765625,\n",
       "  -1.8212890625,\n",
       "  -0.281494140625,\n",
       "  1.570068359375,\n",
       "  -1.5009002685546875,\n",
       "  -0.811767578125,\n",
       "  0.501220703125,\n",
       "  -0.30667877197265625,\n",
       "  -0.1298828125,\n",
       "  -0.542022705078125,\n",
       "  1.3192138671875,\n",
       "  1.1433486938476562,\n",
       "  0.33917236328125,\n",
       "  -0.0537109375,\n",
       "  0.08319091796875,\n",
       "  -1.933349609375,\n",
       "  0.39704132080078125,\n",
       "  -0.37786865234375,\n",
       "  -0.828125,\n",
       "  2.3280868530273438,\n",
       "  0.0108642578125,\n",
       "  0.10662841796875,\n",
       "  -1.30859375,\n",
       "  1.6365966796875,\n",
       "  -2.453125,\n",
       "  0.7805328369140625,\n",
       "  1.1980438232421875,\n",
       "  2.2991943359375,\n",
       "  0.4224853515625,\n",
       "  -1.781494140625,\n",
       "  -0.23529052734375,\n",
       "  -1.249847412109375,\n",
       "  1.036376953125,\n",
       "  0.218048095703125,\n",
       "  0.69390869140625,\n",
       "  0.532470703125,\n",
       "  -0.437042236328125,\n",
       "  1.5673828125,\n",
       "  -0.51397705078125,\n",
       "  -1.2840118408203125,\n",
       "  -0.707427978515625,\n",
       "  -0.9754638671875,\n",
       "  0.65301513671875,\n",
       "  0.53680419921875,\n",
       "  -0.40087890625,\n",
       "  -1.9669189453125,\n",
       "  0.75482177734375,\n",
       "  -1.064208984375,\n",
       "  -0.02789306640625,\n",
       "  0.48590087890625,\n",
       "  0.4486083984375,\n",
       "  -1.6888427734375,\n",
       "  -0.951690673828125,\n",
       "  1.8075332641601562,\n",
       "  0.2439727783203125,\n",
       "  0.70916748046875,\n",
       "  -0.6090087890625,\n",
       "  0.90789794921875,\n",
       "  -0.828338623046875,\n",
       "  0.361175537109375,\n",
       "  0.2777099609375,\n",
       "  1.835205078125,\n",
       "  1.42626953125,\n",
       "  -2.86688232421875,\n",
       "  -2.1422119140625,\n",
       "  1.0062255859375,\n",
       "  0.81689453125,\n",
       "  -0.32529449462890625,\n",
       "  0.2520751953125,\n",
       "  -0.2130126953125,\n",
       "  -0.380126953125,\n",
       "  1.7630615234375]}"
      ]
     },
     "execution_count": 14,
     "metadata": {},
     "output_type": "execute_result"
    }
   ],
   "source": [
    "final_data[0]"
   ]
  },
  {
   "cell_type": "code",
   "execution_count": null,
   "metadata": {},
   "outputs": [],
   "source": []
  }
 ],
 "metadata": {
  "kernelspec": {
   "display_name": "Python 3.7.2 64-bit",
   "language": "python",
   "name": "python37264bitf057b37a75a34fd4ab2d6f607a314ee3"
  },
  "language_info": {
   "codemirror_mode": {
    "name": "ipython",
    "version": 3
   },
   "file_extension": ".py",
   "mimetype": "text/x-python",
   "name": "python",
   "nbconvert_exporter": "python",
   "pygments_lexer": "ipython3",
   "version": "3.7.2"
  }
 },
 "nbformat": 4,
 "nbformat_minor": 2
}
