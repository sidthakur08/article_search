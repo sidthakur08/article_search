{
 "cells": [
  {
   "cell_type": "code",
   "execution_count": 1,
   "metadata": {},
   "outputs": [],
   "source": [
    "import numpy as np\n",
    "import pandas as pd\n",
    "import glob\n",
    "import json\n",
    "\n",
    "from collections import Counter\n",
    "from tqdm import tqdm\n",
    "\n",
    "from nltk.tokenize import regexp_tokenize\n",
    "from nltk.corpus import stopwords\n",
    "from nltk.stem import WordNetLemmatizer\n",
    "import string\n",
    "\n",
    "from gensim.models import KeyedVectors\n",
    "#from gensim.models import fasttext"
   ]
  },
  {
   "cell_type": "code",
   "execution_count": 2,
   "metadata": {},
   "outputs": [
    {
     "name": "stderr",
     "output_type": "stream",
     "text": [
      "[nltk_data] Downloading package wordnet to\n",
      "[nltk_data]     /Users/sidthakur08/nltk_data...\n",
      "[nltk_data]   Package wordnet is already up-to-date!\n"
     ]
    },
    {
     "data": {
      "text/plain": [
       "True"
      ]
     },
     "execution_count": 2,
     "metadata": {},
     "output_type": "execute_result"
    }
   ],
   "source": [
    "import nltk\n",
    "nltk.download('wordnet')"
   ]
  },
  {
   "cell_type": "code",
   "execution_count": 3,
   "metadata": {
    "scrolled": true
   },
   "outputs": [],
   "source": [
    "file = 1\n",
    "paths = glob.glob(f'./articles_data/{file}/*.json')\n",
    "paths = paths[:1000]"
   ]
  },
  {
   "cell_type": "code",
   "execution_count": 4,
   "metadata": {},
   "outputs": [],
   "source": [
    "article_data = []\n",
    "for path in paths:\n",
    "    with open(path) as f:\n",
    "        article_data.append(json.load(f))"
   ]
  },
  {
   "cell_type": "code",
   "execution_count": 5,
   "metadata": {},
   "outputs": [
    {
     "data": {
      "text/plain": [
       "dict_keys(['organizations', 'uuid', 'thread', 'author', 'url', 'ord_in_thread', 'title', 'locations', 'entities', 'highlightText', 'language', 'persons', 'text', 'external_links', 'published', 'crawled', 'highlightTitle'])"
      ]
     },
     "execution_count": 5,
     "metadata": {},
     "output_type": "execute_result"
    }
   ],
   "source": [
    "article_data[0].keys()"
   ]
  },
  {
   "cell_type": "code",
   "execution_count": 6,
   "metadata": {},
   "outputs": [
    {
     "data": {
      "text/plain": [
       "1000"
      ]
     },
     "execution_count": 6,
     "metadata": {},
     "output_type": "execute_result"
    }
   ],
   "source": [
    "len(article_data)"
   ]
  },
  {
   "cell_type": "code",
   "execution_count": 7,
   "metadata": {
    "scrolled": true
   },
   "outputs": [],
   "source": [
    "sections = []\n",
    "for i in range(1000):\n",
    "    sections.append(article_data[i]['thread']['section_title'])\n",
    "#Counter(sections)"
   ]
  },
  {
   "cell_type": "code",
   "execution_count": 8,
   "metadata": {},
   "outputs": [
    {
     "data": {
      "text/plain": [
       "{'organizations': [],\n",
       " 'uuid': 'ea5c49d229ded1a94679a075702e79d3a0a8848e',\n",
       " 'thread': {'social': {'gplus': {'shares': 0},\n",
       "   'pinterest': {'shares': 0},\n",
       "   'vk': {'shares': 0},\n",
       "   'linkedin': {'shares': 0},\n",
       "   'facebook': {'likes': 0, 'shares': 0, 'comments': 0},\n",
       "   'stumbledupon': {'shares': 0}},\n",
       "  'site_full': 'www.businesswire.com',\n",
       "  'main_image': '',\n",
       "  'site_section': 'http://feed.businesswire.com/rss/home/?rss=G1QFDERJXkJeGVtQXg==',\n",
       "  'section_title': 'Business Wire Technology: Mobile/Wireless News',\n",
       "  'url': 'http://www.businesswire.com/news/home/20150921006305/en/MobileSmith-4.0-Leap-Enterprise-App-Development-REST',\n",
       "  'country': 'US',\n",
       "  'title': 'MobileSmith 4.0 a Leap Forward in Enterprise App Development with REST Services, OAuth',\n",
       "  'performance_score': 0,\n",
       "  'site': 'businesswire.com',\n",
       "  'participants_count': 0,\n",
       "  'title_full': 'MobileSmith 4.0 a Leap Forward in Enterprise App Development with REST Services, OAuth',\n",
       "  'spam_score': 0.0,\n",
       "  'site_type': 'news',\n",
       "  'published': '2015-09-21T21:31:00.000+03:00',\n",
       "  'replies_count': 0,\n",
       "  'uuid': 'ea5c49d229ded1a94679a075702e79d3a0a8848e'},\n",
       " 'author': '',\n",
       " 'url': 'http://www.businesswire.com/news/home/20150921006305/en/MobileSmith-4.0-Leap-Enterprise-App-Development-REST',\n",
       " 'ord_in_thread': 0,\n",
       " 'title': 'MobileSmith 4.0 a Leap Forward in Enterprise App Development with REST Services, OAuth',\n",
       " 'locations': [],\n",
       " 'entities': {'persons': [], 'locations': [], 'organizations': []},\n",
       " 'highlightText': '',\n",
       " 'language': 'english',\n",
       " 'persons': [],\n",
       " 'text': 'MobileSmith 4.0 a Leap Forward in Enterprise App Development with REST Services, OAuth Non-programmers can leverage the improved MobileSmith platform to launch beautiful customer-facing apps and powerful enterprise apps with on-demand, two-way connection to any data sources September 21, 2015 02:31 PM Eastern Daylight Time \\nRALEIGH, N.C.--( BUSINESS WIRE )-- MobileSmith is thrilled to announce MobileSmith 4.0 – a new release of its award-winning mobile app development platform, now featuring easy REST API integration, OAuth 2.0 user authentication, and an improved user interface. MobileSmith enables non-programmers in enterprises to quickly produce flexible, connected apps for customers and employees. \\n“Five years ago, everyone just wanted to launch a mobile app. Today, enterprises are realizing that they need to design for mobile first to engage with their customers and employees,” said Bob Dieterle , MobileSmith COO. “ MobileSmith 4.0 delivers to this need by empowering business leaders to quickly produce beautiful, truly useful apps in a matter of days – without having to write any code.” \\nMobileSmith 4.0 new capabilities include: Easy and Quick REST API Integration for On-Demand Data \\nREST services allow you to connect your app to any data source in minutes. We use JSON, the industry standard for mobile, to exchange data on-demand between your backend system and any app page. With REST services, you can easily bring out your legacy data and flexibly include them in any internal or customer-facing apps, building connected omni-channel experiences for your customers and employees. OAuth 2.0 User Authentication for Less Cumbersome App Access \\nOAuth allows you to use existing authentication services in your mobile apps, without building cumbersome authentication interfaces for each app. Users can sign in with their social credentials or existing portal login. You can keep your data secure, while having the benefit of building quick native apps connected to your enterprise systems. Improved User Interface for Rapid App Development \\nOur goal is to make non-programmers totally comfortable creating fully functional, native iOS and Android apps in our platform. We’ve updated our workflow and UI, making app navigation inside the app canvas easier and introducing a number of intuitive functions. \\nFor more information about MobileSmith 4.0, visit http://www.mobilesmith.com/rest-services-oauth \\nWe will introduce MobileSmith 4.0 at our webinar on Thursday, October 1, 1:00pm EST , and show the many use cases you can build with REST and OAuth. Sign up: www.mobilesmith.com/4-0-intro-webinar \\nMobileSmith is a complete cloud solution for enterprise mobility and a powerful online platform that allows non-programmers to easily prototype, deploy, and manage native applications for iOS and Android smartphones and iPad tablets without coding. MobileSmith customers manage each app from a dedicated CMS; push messages to users’ devices, including Apple Watch, securely integrate their data sources via REST APIs and OAuth, and create sleek wayfinding apps powered with beacons and geofencing. Visit us: www.mobilesmith.com . Follow us: @TheMobileSmith Contacts',\n",
       " 'external_links': [],\n",
       " 'published': '2015-09-21T21:31:00.000+03:00',\n",
       " 'crawled': '2015-09-21T21:53:39.791+03:00',\n",
       " 'highlightTitle': ''}"
      ]
     },
     "execution_count": 8,
     "metadata": {},
     "output_type": "execute_result"
    }
   ],
   "source": [
    "article_data[0]"
   ]
  },
  {
   "cell_type": "code",
   "execution_count": 9,
   "metadata": {},
   "outputs": [],
   "source": [
    "stopwords_eng = stopwords.words('english')\n",
    "lemmatizer = WordNetLemmatizer()\n",
    "\n",
    "def process_text(text):\n",
    "    text = text.replace(\"\\n\",\" \").replace(\"\\r\",\" \")\n",
    "    \n",
    "    t = str.maketrans(dict.fromkeys(\"'`\",\"\"))\n",
    "    text = text.translate(t)\n",
    "    \n",
    "    tokens = regexp_tokenize(text,pattern='\\s+',gaps=True)\n",
    "    cleaned_tokens = []\n",
    "    \n",
    "    for t in tokens:\n",
    "        if t not in stopwords_eng and t not in string.punctuation:\n",
    "            l = lemmatizer.lemmatize(t)\n",
    "            cleaned_tokens.append(l)\n",
    "    \n",
    "    return cleaned_tokens"
   ]
  },
  {
   "cell_type": "code",
   "execution_count": 10,
   "metadata": {
    "scrolled": false
   },
   "outputs": [
    {
     "name": "stdout",
     "output_type": "stream",
     "text": [
      "143 µs ± 24.2 µs per loop (mean ± std. dev. of 7 runs, 1 loop each)\n"
     ]
    }
   ],
   "source": [
    "%timeit process_text(\"Technology News | afr.com Business backs Malcolm Turnbull's 'fresh' look at reform | afr.com\")"
   ]
  },
  {
   "cell_type": "code",
   "execution_count": 11,
   "metadata": {},
   "outputs": [
    {
     "name": "stderr",
     "output_type": "stream",
     "text": [
      "100%|██████████| 1000/1000 [00:00<00:00, 5423.11it/s]\n"
     ]
    }
   ],
   "source": [
    "data = []\n",
    "t = 0\n",
    "for i in tqdm(range(len(article_data))):\n",
    "    data.append({\n",
    "        'full_title':article_data[i]['thread']['section_title']+' '+article_data[i]['thread']['title_full'],\n",
    "        'url':article_data[i]['thread']['url'],\n",
    "        'title_tokens':process_text(article_data[i]['thread']['section_title']+' '+article_data[i]['thread']['title_full'])\n",
    "        }\n",
    "    )"
   ]
  },
  {
   "cell_type": "code",
   "execution_count": 12,
   "metadata": {},
   "outputs": [],
   "source": [
    "model = KeyedVectors.load_word2vec_format(\"./GoogleNews-vectors-negative300.bin\",binary=True,limit=10**5)"
   ]
  },
  {
   "cell_type": "code",
   "execution_count": 13,
   "metadata": {},
   "outputs": [],
   "source": [
    "def get_vec(word):\n",
    "    try:\n",
    "        return model[word]\n",
    "    except:\n",
    "        return np.zeros(300)"
   ]
  },
  {
   "cell_type": "code",
   "execution_count": 14,
   "metadata": {},
   "outputs": [
    {
     "name": "stderr",
     "output_type": "stream",
     "text": [
      "100%|██████████| 1000/1000 [00:00<00:00, 12739.16it/s]\n"
     ]
    }
   ],
   "source": [
    "sent_vector = dict()\n",
    "for i in tqdm(range(len(data))):\n",
    "    sent_vector[data[i]['full_title']] = sum([get_vec(t) for t in data[i]['title_tokens']])"
   ]
  },
  {
   "cell_type": "code",
   "execution_count": 15,
   "metadata": {
    "scrolled": true
   },
   "outputs": [
    {
     "data": {
      "text/plain": [
       "array([-0.12487793, -0.79882812, -0.34216309, -0.84890747,  0.34338379,\n",
       "       -0.20715332,  0.68847656,  1.23150635,  0.33236694, -0.35009766,\n",
       "       -0.18615723,  0.32080078,  0.39294434,  0.05737305, -0.52734375,\n",
       "       -0.52929688, -0.18725586, -0.16235352, -0.5357666 , -0.2387085 ,\n",
       "       -0.25506592,  0.92993164,  0.25476074,  0.3475647 ,  0.68164062,\n",
       "        1.28857422, -0.10058594,  1.26928711,  1.08102417, -0.39434814,\n",
       "       -0.41674805, -0.35876465,  0.51049805, -1.35986328,  1.24523926,\n",
       "       -0.90014648,  0.06381226, -0.64672852, -1.69421387,  1.26416016,\n",
       "       -0.22802734, -0.59667969, -0.68383789,  0.59912109, -0.02148438,\n",
       "       -1.42077637, -0.66162109, -1.03808594,  0.7175293 ,  1.26855469,\n",
       "       -1.38739014,  0.41412354,  0.08166504,  1.1343689 ,  0.11315918,\n",
       "        0.85717773, -1.20666504,  0.04534912, -0.48803711, -0.54858398,\n",
       "       -0.0390625 ,  0.04650879, -1.5859375 ,  0.10693359, -0.99963379,\n",
       "        0.25912476, -0.29711914,  0.75634766,  0.29107666,  0.66992188,\n",
       "       -0.75994873, -1.28552246, -0.23632812, -0.60744476,  0.78271484,\n",
       "       -1.31103516,  0.37475586, -0.20178223,  0.73374939, -0.48815918,\n",
       "        0.54248047, -0.10571289,  0.43115234, -0.08312988,  0.15405273,\n",
       "       -1.64648438,  0.76147461,  0.99084473,  0.90649414, -0.56481934,\n",
       "       -0.71258545, -0.19846725, -0.90510559, -0.90673828,  0.46191406,\n",
       "        0.86553955,  0.87097168,  0.50170898, -0.26574707,  0.02087402,\n",
       "        0.4173584 , -0.83154297, -0.13750076, -0.51220703,  0.07989502,\n",
       "        0.23071289, -0.64978027, -0.63780594, -0.04443359, -0.56898499,\n",
       "        0.5113945 , -0.14242554, -0.05718994, -0.77685547,  0.35858154,\n",
       "        0.42553711,  0.51123047, -0.1906662 ,  1.58441162, -0.23193359,\n",
       "        0.0748291 , -0.08651733, -1.44116211, -0.15039062, -0.96716309,\n",
       "        0.18939209, -1.32226562,  0.18508911,  0.19677734, -0.04052734,\n",
       "       -1.33129883,  0.45874023, -0.52246094, -1.72607422,  0.2131958 ,\n",
       "       -0.03992462,  0.29440308,  1.17756653,  0.47570801,  0.68237305,\n",
       "        0.37646484, -0.68359375, -0.15725708,  0.67431641,  0.05340958,\n",
       "       -0.51818848,  0.84546661,  0.38433838,  0.96728516,  0.19073486,\n",
       "        0.68981934, -1.10180664,  0.206604  , -0.0725708 ,  0.34872437,\n",
       "       -0.01106262,  0.29833984, -0.64678955, -0.13647461, -1.16625977,\n",
       "        0.72558594,  0.92900085, -0.37988281,  0.27124023,  0.93365479,\n",
       "        0.20483398,  2.56085205,  0.16931152, -0.76062012,  0.68466187,\n",
       "       -0.05908203, -0.80517578,  0.05615234, -2.08703613,  0.06323242,\n",
       "        1.16308594,  0.70446777, -1.21557617, -0.16796875,  0.13684082,\n",
       "       -0.98522949, -1.46801758,  1.10284424, -0.76586914, -0.02355957,\n",
       "       -1.31530762,  0.49169922,  1.42163086,  0.16845703, -0.13360596,\n",
       "       -0.9588623 , -0.42431641, -1.01147461, -0.36669922, -1.53637695,\n",
       "        0.37249756, -0.51318359, -1.05273438,  1.39111328, -0.76293945,\n",
       "       -0.16723633, -0.13037109,  0.28198242,  0.24664307, -0.10137939,\n",
       "        0.49633026,  0.07037354,  0.27392578,  0.41064453, -0.78359985,\n",
       "       -0.06005859,  0.28540039,  0.33337402,  0.93933105, -0.05255127,\n",
       "        0.15124512,  0.46557617,  0.03903198,  1.01904297, -0.31494141,\n",
       "       -0.29101562,  0.87011719, -1.48974609,  0.22619629, -0.74365234,\n",
       "       -0.29394531,  0.22802734,  0.69128418, -0.57446289, -0.73339844,\n",
       "        0.11206055,  1.05664062, -0.69238281, -0.65234375,  0.33227539,\n",
       "       -0.02664185,  0.0970459 , -0.25790405,  0.81689453,  0.48740387,\n",
       "        0.3302002 , -0.08056641, -0.44793701, -1.18969727,  0.43726349,\n",
       "        0.00494385, -0.81066895,  1.24221802,  0.04272461,  0.23260498,\n",
       "       -0.97509766,  1.01293945, -1.35742188,  0.58081055,  0.29179382,\n",
       "        1.29699707, -0.06604004, -0.73583984,  0.17340088, -0.70944214,\n",
       "        0.61694336,  0.32092285,  0.65637207,  0.5168457 , -0.39953613,\n",
       "        1.2253418 , -0.07159424, -0.51863098, -0.36074829, -0.78649902,\n",
       "        0.24987793,  0.84228516, -0.08154297, -0.96984863,  0.23706055,\n",
       "       -0.22729492, -0.08306885, -0.30078125,  0.07299805, -1.35388184,\n",
       "       -0.90090942,  0.60416412, -0.33476257,  0.31414795, -0.19396973,\n",
       "        1.11700439, -1.13818359,  0.49105835,  0.5411377 ,  1.52368164,\n",
       "        0.97509766, -1.94329834, -0.9720459 ,  0.28869629,  0.64648438,\n",
       "       -0.3751297 ,  0.18676758, -0.03930664, -0.24121094,  1.08410645])"
      ]
     },
     "execution_count": 15,
     "metadata": {},
     "output_type": "execute_result"
    }
   ],
   "source": [
    "sent_vector[data[0]['full_title']]"
   ]
  },
  {
   "cell_type": "code",
   "execution_count": null,
   "metadata": {},
   "outputs": [],
   "source": []
  }
 ],
 "metadata": {
  "kernelspec": {
   "display_name": "Python 3.7.2 64-bit",
   "language": "python",
   "name": "python37264bitf057b37a75a34fd4ab2d6f607a314ee3"
  },
  "language_info": {
   "codemirror_mode": {
    "name": "ipython",
    "version": 3
   },
   "file_extension": ".py",
   "mimetype": "text/x-python",
   "name": "python",
   "nbconvert_exporter": "python",
   "pygments_lexer": "ipython3",
   "version": "3.7.2"
  }
 },
 "nbformat": 4,
 "nbformat_minor": 2
}
