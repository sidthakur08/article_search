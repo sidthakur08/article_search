{
 "cells": [
  {
   "cell_type": "code",
   "execution_count": 1,
   "metadata": {},
   "outputs": [],
   "source": [
    "import pandas as pd\n",
    "import numpy as np\n",
    "from ast import literal_eval\n",
    "from tqdm import tqdm\n",
    "from scipy import spatial"
   ]
  },
  {
   "cell_type": "code",
   "execution_count": 2,
   "metadata": {},
   "outputs": [],
   "source": [
    "data = pd.read_csv('./data/new_data.csv')\n",
    "data = data[:1000]"
   ]
  },
  {
   "cell_type": "code",
   "execution_count": 3,
   "metadata": {},
   "outputs": [
    {
     "data": {
      "text/html": [
       "<div>\n",
       "<style scoped>\n",
       "    .dataframe tbody tr th:only-of-type {\n",
       "        vertical-align: middle;\n",
       "    }\n",
       "\n",
       "    .dataframe tbody tr th {\n",
       "        vertical-align: top;\n",
       "    }\n",
       "\n",
       "    .dataframe thead th {\n",
       "        text-align: right;\n",
       "    }\n",
       "</style>\n",
       "<table border=\"1\" class=\"dataframe\">\n",
       "  <thead>\n",
       "    <tr style=\"text-align: right;\">\n",
       "      <th></th>\n",
       "      <th>headline</th>\n",
       "      <th>sentence_vector</th>\n",
       "      <th>tokens</th>\n",
       "      <th>url</th>\n",
       "    </tr>\n",
       "  </thead>\n",
       "  <tbody>\n",
       "    <tr>\n",
       "      <th>0</th>\n",
       "      <td>Non-stunned halal and kosher meat not saleable...</td>\n",
       "      <td>[-0.821533203125, -0.313720703125, 1.024902343...</td>\n",
       "      <td>['non', 'stunned', 'halal', 'kosher', 'meat', ...</td>\n",
       "      <td>https://www.independent.co.uk/news/world/europ...</td>\n",
       "    </tr>\n",
       "  </tbody>\n",
       "</table>\n",
       "</div>"
      ],
      "text/plain": [
       "                                            headline  \\\n",
       "0  Non-stunned halal and kosher meat not saleable...   \n",
       "\n",
       "                                     sentence_vector  \\\n",
       "0  [-0.821533203125, -0.313720703125, 1.024902343...   \n",
       "\n",
       "                                              tokens  \\\n",
       "0  ['non', 'stunned', 'halal', 'kosher', 'meat', ...   \n",
       "\n",
       "                                                 url  \n",
       "0  https://www.independent.co.uk/news/world/europ...  "
      ]
     },
     "execution_count": 3,
     "metadata": {},
     "output_type": "execute_result"
    }
   ],
   "source": [
    "data.head(1)"
   ]
  },
  {
   "cell_type": "code",
   "execution_count": 4,
   "metadata": {},
   "outputs": [],
   "source": [
    "def get_similarity(a,b):\n",
    "    try:\n",
    "        return 1 - spatial.distance.cosine(literal_eval(a),literal_eval(b))\n",
    "    except:\n",
    "        return 1 - spatial.distance.cosine(a,b)"
   ]
  },
  {
   "cell_type": "code",
   "execution_count": 5,
   "metadata": {},
   "outputs": [],
   "source": [
    "def get_k_similar(to_search,k):\n",
    "    sim_ratings = []\n",
    "    for i in tqdm(range(data.shape[0])):\n",
    "        sim_ratings.append(get_similarity(to_search['sentence_vector'],data.iloc[i]['sentence_vector']))\n",
    "        \n",
    "    sorted_sim_ratings = np.argsort(sim_ratings)[-k-1:-1]\n",
    "    sim_articles = [(data.iloc[s]['headline'],sim_ratings[s]) for s in sorted_sim_ratings][::-1]\n",
    "    return sim_articles"
   ]
  },
  {
   "cell_type": "code",
   "execution_count": 6,
   "metadata": {},
   "outputs": [
    {
     "data": {
      "text/plain": [
       "'Solar cells powered by hybrid E. coli convert light to energy'"
      ]
     },
     "execution_count": 6,
     "metadata": {},
     "output_type": "execute_result"
    }
   ],
   "source": [
    "data.iloc[1]['headline']"
   ]
  },
  {
   "cell_type": "code",
   "execution_count": 7,
   "metadata": {
    "scrolled": true
   },
   "outputs": [
    {
     "name": "stderr",
     "output_type": "stream",
     "text": [
      "100%|██████████| 1000/1000 [00:03<00:00, 305.11it/s]\n"
     ]
    },
    {
     "data": {
      "text/plain": [
       "[('Mercedes GLC boasts latest hydrogen fuel cell tech ', 0.711941843438668),\n",
       " (\"HeliosLite's PV solar tracker captures 31% more energy\",\n",
       "  0.6781475004221713),\n",
       " ('BlueRen invents new technology for converting plastic waste into carbon nanotubes ',\n",
       "  0.6593858910602654)]"
      ]
     },
     "execution_count": 7,
     "metadata": {},
     "output_type": "execute_result"
    }
   ],
   "source": [
    "get_k_similar(data.iloc[1],3)"
   ]
  },
  {
   "cell_type": "code",
   "execution_count": null,
   "metadata": {},
   "outputs": [],
   "source": []
  }
 ],
 "metadata": {
  "kernelspec": {
   "display_name": "Python 3.7.2 64-bit",
   "language": "python",
   "name": "python37264bitf057b37a75a34fd4ab2d6f607a314ee3"
  },
  "language_info": {
   "codemirror_mode": {
    "name": "ipython",
    "version": 3
   },
   "file_extension": ".py",
   "mimetype": "text/x-python",
   "name": "python",
   "nbconvert_exporter": "python",
   "pygments_lexer": "ipython3",
   "version": "3.7.2"
  }
 },
 "nbformat": 4,
 "nbformat_minor": 2
}
